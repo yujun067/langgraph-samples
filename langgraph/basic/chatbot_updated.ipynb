{
 "cells": [
  {
   "cell_type": "markdown",
   "id": "ea75a444",
   "metadata": {},
   "source": [
    "# LangGraph ChatBot 开发指南\n",
    "\n",
    "LangGraph 是一个灵活的 Agent 开发框架，可以帮助您设计复杂的对话工作流和智能代理。\n",
    "\n",
    "本指南将指导您如何使用 LangGraph 构建一个支持**多轮对话的智能客服（聊天机器人）**。\n",
    "\n",
    "我们将从一个基础的聊天机器人开始，逐步添加更多高级功能，并介绍关键的 LangGraph 概念。\n",
    "\n",
    "通过以下几个部分的学习，您将掌握如何逐步构建、增强和管理该聊天机器人。\n",
    "\n",
    "1. **构建Chatbot**： 基于 GPT-4o-mini 构建基础聊天机器人\n",
    "2. **联网查询工具**：为聊天机器人添加工具（结合网络搜索回答问题）\n",
    "3. **增加记忆系统**：在多次调用中保持对话状态\n",
    "4. **人工介入对话**：将复杂查询路由给人工审查或手动更新内容\n",
    "5. **查询历史对话**：通过状态图状态和配置查看/打印历史对话\n",
    "----------\n",
    "\n"
   ]
  },
  {
   "cell_type": "markdown",
   "id": "771ff467-f475-4461-b1c1-3678fbf64298",
   "metadata": {},
   "source": [
    "## LangGraph 核心对象介绍\n",
    "\n",
    "#### **StateGraph 对象**\n",
    "\n",
    "`StateGraph` 是 LangGraph 中的核心概念之一，它定义了聊天机器人或其他任务处理流程的结构。它是一种状态机，通过节点（nodes）和边（edges）来表示系统的状态变化。以下是 `StateGraph` 的关键点：\n",
    "\n",
    "- **定义流程图**：`StateGraph` 是用来创建流程图的对象，图中的每个节点代表一个任务或计算步骤（如调用 LLM、工具或函数），每个边（edge）定义了从一个节点到下一个节点的流向。\n",
    "  \n",
    "- **状态管理**：`StateGraph` 通过状态（`State`）来管理流程中的数据和上下文。每个节点都会接收当前的状态，并且返回一个更新后的状态。这种机制保证了在多轮对话或任务中，机器人能够持续维护上下文信息。\n",
    "\n",
    "- **消息更新**：在 `StateGraph` 中，我们可以定义如何更新状态，例如使用 `add_messages` 函数，表示将消息追加到已有的消息列表，而不是覆盖旧消息。\n",
    "\n",
    "#### StateGraph 的使用步骤\n",
    "1. **定义 State**：首先需要定义状态（`State`），例如用字典来存储消息、工具调用的结果等内容。\n",
    "2. **添加节点**：每个节点表示一个任务单元，可以是任意的 Python 函数。\n",
    "3. **添加边**：通过 `add_edge()` 方法指定节点之间的流向，例如从聊天节点到工具节点，再到结束节点。\n",
    "4. **编译图**：通过 `compile()` 方法将流程图编译为可执行的 `CompiledGraph`。\n",
    "\n",
    "-----------\n",
    "\n",
    "#### **CompiledGraph 对象**\n",
    "\n",
    "`CompiledGraph` 是由 `StateGraph` 编译得到的实际可执行对象。它负责执行在 `StateGraph` 中定义的流程，并处理每个节点的任务。`CompiledGraph` 通过状态的流动来管理整个对话或任务的执行。以下是 `CompiledGraph` 的关键点：\n",
    "\n",
    "- **流程执行**：`CompiledGraph` 是 `StateGraph` 的实际运行版本。当你调用 `stream()` 或 `invoke()` 方法时，它会依次执行图中的节点，并根据每个节点的输出状态决定下一个节点的执行。\n",
    "\n",
    "- **状态检查点（Checkpointing）**：通过使用检查点机制，`CompiledGraph` 可以在每个节点执行完后保存当前的状态，允许任务暂停并在之后恢复。例如，您可以为机器人添加记忆功能或支持“时间旅行”（回到之前的某个状态点）。\n",
    "\n",
    "- **动态路由**：`CompiledGraph` 还支持动态路由（Conditional Edges），允许根据当前状态动态决定下一步执行的节点。这使得机器人可以根据上下文或工具的输出灵活地调整行为。\n",
    "\n",
    "------------\n",
    "\n",
    "#### 关系总结\n",
    "\n",
    "- `StateGraph` 用于定义和构建一个聊天机器人或任务处理流程的结构，通过节点和边来管理流程和状态的流动。\n",
    "- `CompiledGraph` 是 `StateGraph` 编译后的版本，负责实际的流程执行、状态管理和检查点保存。\n",
    "\n",
    "它们结合在一起，提供了一个灵活、可扩展的方式来构建复杂的多步骤对话机器人或任务执行系统。\n",
    "\n",
    "------------"
   ]
  },
  {
   "cell_type": "markdown",
   "id": "bfa6d74b-5d3c-44c3-b6b6-794f82f366b8",
   "metadata": {
    "jp-MarkdownHeadingCollapsed": true
   },
   "source": [
    "## LangGraph 核心方法介绍\n",
    "\n",
    "`graph.stream` 是 LangGraph 中的一个核心方法，用于执行编译后的状态图（`CompiledGraph`）并以流式（streaming）的方式处理每个节点。通过 `stream` 方法，系统可以逐步执行对话或任务的每个步骤，并在每一步中返回中间结果。这种方式特别适用于长时间任务、逐步处理的工具调用或连续的对话。\n",
    "\n",
    "### `graph.stream` 的核心功能\n",
    "\n",
    "1. **流式执行**：\n",
    "   - `graph.stream` 允许您在每个节点执行时获得结果，类似于生成器的工作方式。在对话或任务流程中，机器人每经过一个节点（如调用工具、获取外部数据、与用户对话），都会返回该节点的执行结果。这使得系统可以逐步处理复杂的任务或多轮对话，而不是一次性等待所有步骤完成。\n",
    "\n",
    "2. **中间状态反馈**：\n",
    "   - 使用 `stream` 方法时，开发者可以在每一步获得当前的中间状态（如对话消息、工具调用的结果）。这对于调试、错误处理和用户实时反馈非常有帮助。\n",
    "   - 比如，在对话中，系统可以在用户输入每一条消息后逐步处理，逐步生成回答，而不是一次性返回最终结果。\n",
    "\n",
    "3. **支持多轮对话**：\n",
    "   - 通过 `stream`，可以让机器人保持对话的状态，使其能够处理复杂的多轮对话。系统在每一步都会保存对话的上下文，并在接收到新消息时恢复对话的状态，继续处理。\n",
    "\n",
    "4. **支持工具调用和多节点执行**：\n",
    "   - `stream` 方法不仅支持对话，还可以用于工具调用等任务。在每个工具节点执行时，系统会返回工具的执行结果，允许您对每个步骤的输出进行检查或处理。\n",
    "   - 它特别适合那些需要多个步骤或节点共同执行的任务，保证每个节点依次运行。\n",
    "\n",
    "---\n",
    "\n",
    "### 典型用法（涵盖1-3部分的重要功能）\n",
    "\n",
    "#### 1. 执行对话\n",
    "\n",
    "```python\n",
    "config = {\"configurable\": {\"thread_id\": \"1\"}}\n",
    "user_input = \"Hi, can you tell me today's weather?\"\n",
    "\n",
    "# 使用 stream 方法来执行对话\n",
    "events = graph.stream(\n",
    "    {\"messages\": [(\"user\", user_input)]},  # 传入用户的输入消息\n",
    "    config,  # 对话线程配置，用于标识对话的唯一 ID\n",
    "    stream_mode=\"values\"  # 以流式返回数据\n",
    ")\n",
    "\n",
    "# 遍历每个事件，并输出机器人生成的消息\n",
    "for event in events:\n",
    "    print(event[\"messages\"][-1].content)  # 打印最后一条消息的内容\n",
    "```\n",
    "\n",
    "在这个示例中，`graph.stream` 逐步处理用户的输入，并返回每个步骤的结果。由于使用了 `stream_mode=\"values\"`，系统以流式返回对话的中间结果。\n",
    "\n",
    "#### 2. 执行工具调用\n",
    "\n",
    "```python\n",
    "user_input = \"Please search for the latest news about AI.\"\n",
    "config = {\"configurable\": {\"thread_id\": \"2\"}}\n",
    "\n",
    "# 使用 stream 方法来执行带有工具调用的任务\n",
    "events = graph.stream(\n",
    "    {\"messages\": [(\"user\", user_input)]},  # 用户输入的消息\n",
    "    config,\n",
    "    stream_mode=\"values\"\n",
    ")\n",
    "\n",
    "# 遍历事件，获取工具的调用结果\n",
    "for event in events:\n",
    "    if \"messages\" in event:\n",
    "        # 打印工具的调用结果或机器人回复\n",
    "        print(event[\"messages\"][-1].content)\n",
    "```\n",
    "\n",
    "这个示例展示了如何通过 `graph.stream` 执行包含工具调用的任务。每个工具的调用结果都会在事件中返回，并且可以即时处理和反馈。\n",
    "\n",
    "---\n",
    "\n",
    "### `graph.stream` 的参数\n",
    "\n",
    "- **`inputs`**：输入的字典数据，通常包含对话的消息（如 `{\"messages\": [(\"user\", user_input)]}`），表示用户输入了什么信息。`inputs` 是机器人任务的初始数据。\n",
    "- **`config`**：配置参数，用于指定对话线程 ID、流执行模式等选项。它允许为每个对话或任务指定唯一的标识符，以便系统可以跟踪对话的上下文或任务状态。\n",
    "- **`stream_mode`**：指定返回数据的模式。常见的取值是 `\"values\"`，表示返回处理结果的流式数据。其他模式也可以根据具体需求进行调整。\n",
    "\n",
    "---\n",
    "\n",
    "### 适用场景\n",
    "\n",
    "1. **多轮对话机器人**：在复杂的对话场景中，用户可能与机器人进行多轮对话，并且希望机器人能够持续记住对话上下文。`graph.stream` 允许在每一轮对话中返回中间结果，并保持对话的流畅性和连贯性。\n",
    "  \n",
    "2. **逐步执行复杂任务**：例如，机器人在执行需要多个步骤的任务时，可以通过 `stream` 方法在每个步骤执行完后返回结果，而不是一次性执行整个任务。这种逐步处理的机制可以确保任务的每一步都被正确执行，并且可以随时处理异常情况。\n",
    "\n",
    "3. **实时反馈**：在实时应用中，用户希望能够尽快获得机器人的反馈。通过 `graph.stream`，系统可以在每个步骤中即时返回处理结果，让用户感受到流畅的交互体验。\n",
    "\n",
    "---\n",
    "\n",
    "### 总结\n",
    "\n",
    "`graph.stream` 是一个强大的工具，用于以流式处理对话和任务的每个步骤。它特别适合那些需要逐步执行和处理的任务场景，如多轮对话、复杂的工具调用或任务处理。通过 `stream`，系统可以在每一步中即时返回结果，并保持任务或对话的上下文信息。\n",
    "\n",
    "-----"
   ]
  },
  {
   "cell_type": "markdown",
   "id": "77f3f01c-21f0-47be-a32b-3895f46f1b65",
   "metadata": {},
   "source": [
    "## 第 1 部分：构建基础聊天机器人\n",
    "\n",
    "我们将首先使用 LangGraph 创建一个简单的聊天机器人。该机器人将直接响应用户消息。虽然简单，但它将展示 LangGraph 构建的核心概念。在本部分结束时，您将构建一个基础的聊天机器人。\n",
    "\n",
    "### 1. 安装依赖包\n",
    "\n",
    "首先，安装所需的软件包："
   ]
  },
  {
   "cell_type": "code",
   "execution_count": 3,
   "id": "bcd46847",
   "metadata": {},
   "outputs": [
    {
     "name": "stderr",
     "output_type": "stream",
     "text": [
      "  WARNING: The script langsmith.exe is installed in 'C:\\Users\\Administrator\\AppData\\Roaming\\Python\\Python312\\Scripts' which is not on PATH.\n",
      "  Consider adding this directory to PATH or, if you prefer to suppress this warning, use --no-warn-script-location.\n",
      "ERROR: pip's dependency resolver does not currently take into account all the packages that are installed. This behaviour is the source of the following dependency conflicts.\n",
      "langchain 0.2.16 requires langchain-core<0.3.0,>=0.2.38, but you have langchain-core 0.3.15 which is incompatible.\n",
      "langchain-community 0.2.16 requires langchain-core<0.3.0,>=0.2.38, but you have langchain-core 0.3.15 which is incompatible.\n",
      "langchain-experimental 0.0.65 requires langchain-core<0.3.0,>=0.2.38, but you have langchain-core 0.3.15 which is incompatible.\n",
      "langchain-ollama 0.1.3 requires langchain-core<0.3.0,>=0.2.36, but you have langchain-core 0.3.15 which is incompatible.\n",
      "langchain-openai 0.1.23 requires langchain-core<0.3.0,>=0.2.35, but you have langchain-core 0.3.15 which is incompatible.\n",
      "langchain-text-splitters 0.2.4 requires langchain-core<0.3.0,>=0.2.38, but you have langchain-core 0.3.15 which is incompatible.\n"
     ]
    }
   ],
   "source": [
    "%%capture --no-stderr\n",
    "# 安装 LangGraph 和 LangSmith，用于状态图和跟踪\n",
    "%pip install -U langgraph langsmith"
   ]
  },
  {
   "cell_type": "markdown",
   "id": "e9cb2298",
   "metadata": {},
   "source": [
    "### 2. 设置 LangSmith API 密钥"
   ]
  },
  {
   "cell_type": "code",
   "execution_count": 1,
   "id": "d9db1b1d",
   "metadata": {},
   "outputs": [],
   "source": [
    "import os\n",
    "\n",
    "# 开启 LangSmith 跟踪，便于调试和查看详细执行信息\n",
    "os.environ[\"LANGCHAIN_TRACING_V2\"] = \"true\"\n",
    "os.environ[\"LANGCHAIN_PROJECT\"] = \"ChatBot\""
   ]
  },
  {
   "cell_type": "markdown",
   "id": "eeb060c3",
   "metadata": {},
   "source": [
    "### 3. 定义聊天机器人的状态图 `StateGraph`\n",
    "\n",
    "我们将添加节点以表示聊天机器人的逻辑和功能，并添加边来指定如何在功能之间进行转换。\n",
    "\n",
    "#### 代码解析\n",
    "\n",
    "当定义一个状态图时，首先要定义图的状态 `State`。`State` 包含图的状态结构以及 reducer 函数，它们指定如何应用状态更新。\n",
    "\n",
    "在本例中，`State` 是一个带有单一键 `messages` 的 `TypedDict`，该键使用 `add_messages` 函数作为注解，告诉 LangGraph 应该将新消息追加到现有消息列表中，而不是覆盖它。\n",
    "\n",
    "没有注解的状态键将被覆盖，存储最新的值。"
   ]
  },
  {
   "cell_type": "code",
   "execution_count": 3,
   "id": "a959d214",
   "metadata": {},
   "outputs": [],
   "source": [
    "from typing import Annotated\n",
    "from typing_extensions import TypedDict\n",
    "from langgraph.graph import StateGraph, START, END\n",
    "from langgraph.graph.message import add_messages\n",
    "\n",
    "# 定义状态类型，继承自 TypedDict，并使用 add_messages 函数将消息追加到现有列表\n",
    "class State(TypedDict):\n",
    "    messages: Annotated[list, add_messages]\n",
    "\n",
    "# 创建一个状态图对象，传入状态定义\n",
    "graph_builder = StateGraph(State)"
   ]
  },
  {
   "cell_type": "markdown",
   "id": "c4950d16",
   "metadata": {},
   "source": [
    "现在，状态图知道了两件事：\n",
    "\n",
    "1. 每个我们定义的节点都会接收当前的 `State` 作为输入，并返回一个更新该状态的值。\n",
    "2. `messages` 将追加到当前列表中，而不是直接覆盖。这通过 `Annotated` 语法中的预构建 `add_messages` 函数传达。\n",
    "\n",
    "### 4. 添加聊天节点\n",
    "\n",
    "节点表示一个计算单元。它们通常是常规的 Python 函数。\n",
    "\n",
    "**代码解析：**\n",
    "\n",
    "聊天机器人节点函数（`chatbot`）接收当前的 `State` 作为输入，并返回一个包含更新后的 `messages` 列表的字典。这是所有 LangGraph 节点函数的基础模式。\n",
    "\n",
    "在 `State` 中的 `add_messages` 函数会将 LLM 的响应消息追加到现有的消息列表中。"
   ]
  },
  {
   "cell_type": "code",
   "execution_count": 5,
   "id": "1f1607f3",
   "metadata": {},
   "outputs": [],
   "source": [
    "from langchain_openai import ChatOpenAI\n",
    "\n",
    "# 初始化一个 GPT-4o-mini 模型\n",
    "chat_model = ChatOpenAI(model=\"gpt-4o-mini\")\n",
    "\n",
    "# 定义聊天机器人的节点函数，接收当前状态并返回更新的消息列表\n",
    "def chatbot(state: State):\n",
    "    return {\"messages\": [chat_model.invoke(state[\"messages\"])]}\n",
    "\n",
    "# 第一个参数是唯一的节点名称，第二个参数是每次节点被调用时的函数或对象\n",
    "graph_builder.add_node(\"chatbot\", chatbot)"
   ]
  },
  {
   "cell_type": "markdown",
   "id": "b1ba47db",
   "metadata": {},
   "source": [
    "### 5. 定义聊天机器人对话流程（状态图的起终点）\n",
    "\n",
    "- **起点（START）**：每次运行时，从哪里开始工作。\n",
    "- **终点（END）**：每次运行此节点时，程序可以退出。"
   ]
  },
  {
   "cell_type": "code",
   "execution_count": 7,
   "id": "7f06c7de",
   "metadata": {},
   "outputs": [],
   "source": [
    "graph_builder.add_edge(START, \"chatbot\")\n",
    "graph_builder.add_edge(\"chatbot\", END)"
   ]
  },
  {
   "cell_type": "markdown",
   "id": "848f8d09",
   "metadata": {},
   "source": [
    "### 6. 编译图并可视化\n",
    "\n",
    "最后，我们需要能够运行我们的状态图。\n",
    "\n",
    "在图构建器上调用 `compile()`，这会创建一个可执行的 `CompiledGraph`对象。\n",
    "\n",
    "我们可以使用该图(`CompiledGraph`)来调用聊天机器人。"
   ]
  },
  {
   "cell_type": "code",
   "execution_count": 9,
   "id": "9ff06359",
   "metadata": {},
   "outputs": [
    {
     "data": {
      "image/jpeg": "[encoded data removed]",
      "text/plain": [
       "<IPython.core.display.Image object>"
      ]
     },
     "metadata": {},
     "output_type": "display_data"
    }
   ],
   "source": [
    "# 编译状态图并生成可执行图对象\n",
    "graph = graph_builder.compile()\n",
    "\n",
    "# 你可以使用 get_graph 方法来可视化图，并结合 draw 方法（如 draw_ascii 或 draw_png）\n",
    "from IPython.display import Image, display\n",
    "\n",
    "try:\n",
    "    display(Image(graph.get_graph().draw_mermaid_png()))\n",
    "except Exception:\n",
    "    pass"
   ]
  },
  {
   "cell_type": "markdown",
   "id": "7e7be101",
   "metadata": {},
   "source": [
    "### 7. 运行图\n",
    "\n",
    "**恭喜！您已经使用 LangGraph 构建了第一个聊天机器人。这个机器人可以通过接受用户输入并生成 LLM 回复来进行基本对话。**\n",
    "\n",
    "现在运行聊天机器人！\n",
    "\n",
    "#### 代码解析\n",
    "\n",
    "1. **聊天循环**：\n",
    "   - `while True:` 启动一个持续的聊天循环，用户可以不断输入问题或命令与聊天机器人互动。\n",
    "\n",
    "2. **获取用户输入**：\n",
    "   - 使用 `input(\"User: \")` 来获取用户的输入消息，并将其赋值给 `user_input` 变量。\n",
    "\n",
    "3. **退出条件**：\n",
    "   - 如果用户输入 `\"quit\"`、`\"exit\"` 或 `\"q\"`，系统会通过 `break` 语句退出聊天循环，结束程序运行。\n",
    "\n",
    "4. **将用户消息传递给聊天机器人**：\n",
    "   - 通过调用 `graph.stream({\"messages\": (\"user\", user_input)})`，将用户的输入传递给聊天机器人模型。`graph.stream` 方法会根据输入的消息生成相应的回复。\n",
    "   - 这里 `\"messages\": (\"user\", user_input)` 表示传递的是用户的输入消息。\n",
    "\n",
    "5. **处理机器人的回复**：\n",
    "   - 遍历 `event.values()` 中的每个值，从机器人生成的回复中提取最后一条消息，并使用 `print(\"Assistant:\", value[\"messages\"][-1].content)` 打印输出聊天机器人的回复内容。\n",
    "\n",
    "该代码是一个简单的聊天机器人框架，用户可以在命令行中输入问题，机器人会根据用户的输入实时生成回复。如果用户输入退出指令，程序会结束对话循环。"
   ]
  },
  {
   "cell_type": "code",
   "execution_count": 11,
   "id": "12e6c741",
   "metadata": {},
   "outputs": [
    {
     "name": "stdin",
     "output_type": "stream",
     "text": [
      "User:  详细介绍下美国2024年大选的候选人是谁，以及他们的得票情况\n"
     ]
    },
    {
     "name": "stdout",
     "output_type": "stream",
     "text": [
      "Assistant: 截至2023年10月，美国2024年总统大选的候选人尚未最终确定，但已有一些主要候选人宣布参选。以下是一些可能的候选人和他们的背景：\n",
      "\n",
      "### 主要候选人\n",
      "\n",
      "1. **乔·拜登 (Joe Biden)** - 现任总统，民主党候选人：\n",
      "   - 拜登在2020年大选中击败了时任总统唐纳德·特朗普，成为美国第46任总统。他在2024年寻求连任。\n",
      "\n",
      "2. **唐纳德·特朗普 (Donald Trump)** - 前总统，共和党候选人：\n",
      "   - 特朗普是2020年大选的败者，但他在共和党内的支持率仍然很高，已宣布参选2024年大选。\n",
      "\n",
      "3. **罗恩·德桑蒂斯 (Ron DeSantis)** - 佛罗里达州州长，共和党候选人：\n",
      "   - 德桑蒂斯在共和党初选中是特朗普的主要竞争者之一，因其在处理疫情和其他政治议题上的立场而受到关注。\n",
      "\n",
      "4. **尼基·海利 (Nikki Haley)** - 前联合国大使，共和党候选人：\n",
      "   - 海利曾担任南卡罗来纳州州长，是共和党内较有影响力的女性候选人之一。\n",
      "\n",
      "5. **维维克·拉马斯瓦米 (Vivek Ramaswamy)** - 企业家，共和党候选人：\n",
      "   - 拉马斯瓦米是一位新兴的政治人物，因其商业背景和激进的政策立场而受到关注。\n",
      "\n",
      "### 得票情况\n",
      "\n",
      "由于2024年大选尚未举行，因此目前无法提供具体的得票情况。候选人在初选中的表现和公众支持率将在未来几个月内逐步显现。各候选人之间的竞争将通过初选和党代会逐步明确，并最终决定谁将代表各自的政党参加大选。\n",
      "\n",
      "### 总结\n",
      "\n",
      "美国2024年大选的候选人名单正在逐步形成，主要候选人包括现任总统拜登和前总统特朗普等。尽管目前无法提供具体的得票情况，但各候选人的初选表现和民意调查结果将对大选结果产生重要影响。随着选举日的临近，政治局势可能会发生变化，值得持续关注。\n"
     ]
    },
    {
     "name": "stdin",
     "output_type": "stream",
     "text": [
      "User:  quit\n"
     ]
    },
    {
     "name": "stdout",
     "output_type": "stream",
     "text": [
      "Goodbye!\n"
     ]
    }
   ],
   "source": [
    "# 开始一个简单的聊天循环\n",
    "while True:\n",
    "    # 获取用户输入\n",
    "    user_input = input(\"User: \")\n",
    "    \n",
    "    # 可以随时通过输入 \"quit\"、\"exit\" 或 \"q\" 退出聊天循环\n",
    "    if user_input.lower() in [\"quit\", \"exit\", \"q\"]:\n",
    "        print(\"Goodbye!\")  # 打印告别信息\n",
    "        break  # 结束循环，退出聊天\n",
    "\n",
    "    # 将每次用户输入的内容传递给 graph.stream，用于聊天机器人状态处理\n",
    "    # \"messages\": (\"user\", user_input) 表示传递的消息是用户输入的内容\n",
    "    for event in graph.stream({\"messages\": (\"user\", user_input)}):\n",
    "        \n",
    "        # 遍历每个事件的值\n",
    "        for value in event.values():\n",
    "            # 打印输出 chatbot 生成的最新消息\n",
    "            print(\"Assistant:\", value[\"messages\"][-1].content)"
   ]
  },
  {
   "cell_type": "markdown",
   "id": "497df061",
   "metadata": {},
   "source": [
    "--------------\n",
    "#### 运行结果分析\n",
    "\n",
    "问：详细介绍下 美国2024年大选的候选人\n",
    "\n",
    "gpt-4o-mini 训练数据截止日期，在 LangGraph 项目推出前。\n",
    "\n",
    "因此，直接让模型生成 美国2024年大选的候选人 相关介绍时，会出现事实性的问题。\n",
    "\n"
   ]
  },
  {
   "cell_type": "markdown",
   "id": "a64039fb",
   "metadata": {},
   "source": [
    "## 第 2 部分：为聊天机器人添加工具\n",
    "\n",
    "为了处理我们聊天机器人无法“记住”回答的问题，我们将集成一个 Web 搜索工具 [Tavily Search](\n",
    "https://python.langchain.com/v0.2/docs/integrations/tools/tavily_search/)。\n",
    "\n",
    "我们的机器人可以使用这个工具找到相关信息，并提供更好的回复。\n",
    "\n",
    "### 1. 安装依赖并设置 Tavily API\n",
    "\n",
    "访问 [Tavily](https://tavily.com/) 官网，注册账号并生成你的 `TAVILY_API_KEY`。\n",
    "\n",
    "Tavily 提供 1000次/月的免费检索额度。\n",
    "\n",
    "在开始之前，确保您已安装 Tavily 搜索引擎所需的包并在环境变量中设置了 `TAVILY_API_KEY`。"
   ]
  },
  {
   "cell_type": "code",
   "execution_count": 8,
   "id": "9fe20f5f",
   "metadata": {},
   "outputs": [],
   "source": [
    "%%capture --no-stderr\n",
    "# 安装 Tavily 搜索引擎的 Python 包\n",
    "%pip install -U tavily-python\n",
    "%pip install -U langchain_community"
   ]
  },
  {
   "cell_type": "code",
   "execution_count": 9,
   "id": "fb1758a2-7208-4aa4-8c60-4ec2e57b1783",
   "metadata": {},
   "outputs": [],
   "source": [
    "# import getpass\n",
    "# import os\n",
    "\n",
    "# if not os.environ.get(\"TAVILY_API_KEY\"):\n",
    "#     os.environ[\"TAVILY_API_KEY\"] = getpass.getpass(\"Tavily API key:\\n\")"
   ]
  },
  {
   "cell_type": "markdown",
   "id": "4448a461",
   "metadata": {},
   "source": [
    "### 2. 定义工具"
   ]
  },
  {
   "cell_type": "code",
   "execution_count": 14,
   "id": "5ec05131",
   "metadata": {},
   "outputs": [
    {
     "data": {
      "text/plain": [
       "[{'url': 'https://www.datacamp.com/tutorial/langgraph-tutorial',\n",
       "  'content': \"In LangGraph, each node represents an LLM agent, and the edges are the communication channels between these agents. This structure allows for clear and manageable workflows, where each agent performs specific tasks and passes information to other agents as needed. State management. One of LangGraph's standout features is its automatic state\"},\n",
       " {'url': 'https://www.gettingstarted.ai/langgraph-tutorial-with-example/',\n",
       "  'content': \"LangGraph is a library built by the LangChain team that aims to help developers create graph-based single or multi-agent AI applications. As a low-level framework, LangGraph lets you control how agents interact with each other, which tools to use, and how information flows within the application. LangGraph uses this graph concept to organize AI agents and their interactions. We can then build our Graph by passing our State to the StateGraph class so that all graph nodes communicate by reading and writing to the shared state. A LangGraph node takes the state of the graph as a parameter and returns an updated state after it is executed. Great, now we'll wrap these mock methods and expose them as tools which will become part of the Tools node within our LangGraph graph.\"}]"
      ]
     },
     "execution_count": 14,
     "metadata": {},
     "output_type": "execute_result"
    }
   ],
   "source": [
    "from langchain_community.tools.tavily_search import TavilySearchResults\n",
    "\n",
    "# 定义 Tavily 搜索工具，最大搜索结果数设置为 2\n",
    "tool = TavilySearchResults(max_results=2)\n",
    "tools = [tool]\n",
    "\n",
    "# 测试工具调用\n",
    "tool.invoke(\"What's a 'node' in LangGraph?\")"
   ]
  },
  {
   "cell_type": "markdown",
   "id": "07ba26bd",
   "metadata": {},
   "source": [
    "-----------------------------\n",
    "#### 搜索工具结果 如上所示\n",
    "\n",
    "工具返回的是页面摘要，供我们的聊天机器人用于回答问题。\n",
    "\n",
    "### 3. 将工具集成到状态图中\n",
    "\n",
    "以下步骤与第 1 部分类似，只不过我们在 `LLM` 上添加了 `bind_tools`，这使得 LLM 可以在需要时调用搜索工具。"
   ]
  },
  {
   "cell_type": "code",
   "execution_count": 16,
   "id": "32631ea0",
   "metadata": {},
   "outputs": [],
   "source": [
    "from typing import Annotated\n",
    "from langchain_openai import ChatOpenAI\n",
    "from typing_extensions import TypedDict\n",
    "from langgraph.graph import StateGraph, START\n",
    "from langgraph.graph.message import add_messages\n",
    "\n",
    "# 定义状态\n",
    "class State(TypedDict):\n",
    "    messages: Annotated[list, add_messages]\n",
    "\n",
    "graph_builder = StateGraph(State)\n",
    "\n",
    "# 初始化 LLM 并绑定搜索工具\n",
    "chat_model = ChatOpenAI(model=\"gpt-4o-mini\")\n",
    "llm_with_tools = chat_model.bind_tools(tools)\n",
    "\n",
    "# 更新聊天机器人节点函数，支持工具调用\n",
    "def chatbot(state: State):\n",
    "    return {\"messages\": [llm_with_tools.invoke(state[\"messages\"])]}\n",
    "\n",
    "# 将更新后的节点添加到状态图中\n",
    "graph_builder.add_node(\"chatbot\", chatbot)"
   ]
  },
  {
   "cell_type": "markdown",
   "id": "9c8c99bb",
   "metadata": {},
   "source": [
    "\n",
    "### 4. 处理工具调用\n",
    "\n",
    "我们需要创建一个函数来运行工具。我们通过向图中添加一个新节点来实现这一点。\n",
    "\n"
   ]
  },
  {
   "cell_type": "code",
   "execution_count": 18,
   "id": "7e8e3ba9",
   "metadata": {},
   "outputs": [],
   "source": [
    "import json\n",
    "from langchain_core.messages import ToolMessage\n",
    "\n",
    "# 定义 BasicToolNode，用于执行工具请求\n",
    "class BasicToolNode:\n",
    "    \"\"\"一个在最后一条 AIMessage 中执行工具请求的节点。\n",
    "    \n",
    "    该节点会检查最后一条 AI 消息中的工具调用请求，并依次执行这些工具调用。\n",
    "    \"\"\"\n",
    "\n",
    "    def __init__(self, tools: list) -> None:\n",
    "        # tools 是一个包含所有可用工具的列表，我们将其转化为字典，\n",
    "        # 通过工具名称（tool.name）来访问具体的工具\n",
    "        self.tools_by_name = {tool.name: tool for tool in tools}\n",
    "\n",
    "    def __call__(self, inputs: dict):\n",
    "        \"\"\"执行工具调用\n",
    "        \n",
    "        参数:\n",
    "        inputs: 包含 \"messages\" 键的字典，\"messages\" 是对话消息的列表，\n",
    "                其中最后一条消息可能包含工具调用的请求。\n",
    "        \n",
    "        返回:\n",
    "        包含工具调用结果的消息列表\n",
    "        \"\"\"\n",
    "        # 获取消息列表中的最后一条消息，判断是否包含工具调用请求\n",
    "        if messages := inputs.get(\"messages\", []):\n",
    "            message = messages[-1]\n",
    "        else:\n",
    "            raise ValueError(\"输入中未找到消息\")\n",
    "\n",
    "        # 用于保存工具调用的结果\n",
    "        outputs = []\n",
    "\n",
    "        # 遍历工具调用请求，执行工具并将结果返回\n",
    "        for tool_call in message.tool_calls:\n",
    "            # 根据工具名称找到相应的工具，并调用工具的 invoke 方法执行工具\n",
    "            tool_result = self.tools_by_name[tool_call[\"name\"]].invoke(\n",
    "                tool_call[\"args\"]\n",
    "            )\n",
    "            # 将工具调用结果作为 ToolMessage 保存下来\n",
    "            outputs.append(\n",
    "                ToolMessage(\n",
    "                    content=json.dumps(tool_result),  # 工具调用的结果以 JSON 格式保存\n",
    "                    name=tool_call[\"name\"],  # 工具的名称\n",
    "                    tool_call_id=tool_call[\"id\"],  # 工具调用的唯一标识符\n",
    "                )\n",
    "            )\n",
    "        # 返回包含工具调用结果的消息\n",
    "        return {\"messages\": outputs}"
   ]
  },
  {
   "cell_type": "code",
   "execution_count": 20,
   "id": "75c139e4-af01-4cc8-987e-16b2ec82a662",
   "metadata": {},
   "outputs": [],
   "source": [
    "# 将 BasicToolNode 添加到状态图中\n",
    "tool_node = BasicToolNode(tools=[tool])\n",
    "graph_builder.add_node(\"tools\", tool_node)"
   ]
  },
  {
   "cell_type": "markdown",
   "id": "f833a146",
   "metadata": {},
   "source": [
    "\n",
    "### 5. 添加条件边\n",
    "\n",
    "条件边将控制流从一个节点路由到另一个节点。条件边通常包含 `if` 语句，以根据当前状态将控制流路由到不同的节点。\n",
    "\n",
    "#### 代码解析\n",
    "\n",
    "我们定义一个路由函数 `route_tools`，检查聊天机器人的输出中是否包含工具调用。此函数会在聊天机器人节点完成后检查，决定下一步走向工具节点还是结束对话。\n",
    "\n",
    "1. **`route_tools` 函数**：这是一个路由函数，用来决定机器人在对话流程中的下一步。它会检查状态中的最后一条消息，判断该消息是否包含工具调用请求。\n",
    "   - 如果有工具调用请求（通过 `tool_calls` 属性判断），返回 `\"tools\"`，表示需要执行工具节点。\n",
    "   - 如果没有工具调用请求，则返回 `\"__end__\"`，表示对话流程结束。\n",
    "\n",
    "2. **`add_conditional_edges`**：这是 LangGraph 中用于条件路由的函数。它允许我们根据 `route_tools` 函数的返回值决定下一个要执行的节点。比如：\n",
    "   - 如果返回值是 `\"tools\"`，则执行工具节点。\n",
    "   - 如果返回值是 `\"__end__\"`，则结束流程。\n",
    "\n",
    "3. **`add_edge`**：当工具节点执行完成后，机器人会返回到 `chatbot` 节点继续对话。\n",
    "\n",
    "4. **编译状态图**：最后，使用 `graph_builder.compile()` 编译状态图，生成一个 `CompiledGraph`，这个对象可以实际执行对话流程。"
   ]
  },
  {
   "cell_type": "code",
   "execution_count": 22,
   "id": "fafcaabc",
   "metadata": {},
   "outputs": [],
   "source": [
    "from typing import Literal\n",
    "\n",
    "# 定义路由函数，检查工具调用\n",
    "def route_tools(\n",
    "    state: State,\n",
    ") -> Literal[\"tools\", \"__end__\"]:\n",
    "    \"\"\"\n",
    "    使用条件边来检查最后一条消息中是否有工具调用。\n",
    "    \n",
    "    参数:\n",
    "    state: 状态字典或消息列表，用于存储当前对话的状态和消息。\n",
    "    \n",
    "    返回:\n",
    "    如果最后一条消息包含工具调用，返回 \"tools\" 节点，表示需要执行工具调用；\n",
    "    否则返回 \"__end__\"，表示直接结束流程。\n",
    "    \"\"\"\n",
    "    # 检查状态是否是列表类型（即消息列表），取最后一条 AI 消息\n",
    "    if isinstance(state, list):\n",
    "        ai_message = state[-1]\n",
    "    # 否则从状态字典中获取 \"messages\" 键，取最后一条消息\n",
    "    elif messages := state.get(\"messages\", []):\n",
    "        ai_message = messages[-1]\n",
    "    # 如果没有找到消息，则抛出异常\n",
    "    else:\n",
    "        raise ValueError(f\"输入状态中未找到消息: {state}\")\n",
    "\n",
    "    # 检查最后一条消息是否有工具调用请求\n",
    "    if hasattr(ai_message, \"tool_calls\") and len(ai_message.tool_calls) > 0:\n",
    "        return \"tools\"  # 如果有工具调用请求，返回 \"tools\" 节点\n",
    "    return \"__end__\"  # 否则返回 \"__end__\"，流程结束\n",
    "\n",
    "# 添加条件边，判断是否需要调用工具\n",
    "graph_builder.add_conditional_edges(\n",
    "    \"chatbot\",  # 从聊天机器人节点开始\n",
    "    route_tools,  # 路由函数，决定下一个节点\n",
    "    {\n",
    "        \"tools\": \"tools\", \n",
    "        \"__end__\": \"__end__\"\n",
    "    },  # 定义条件的输出，工具调用走 \"tools\"，否则走 \"__end__\"\n",
    ")\n",
    "\n",
    "# 当工具调用完成后，返回到聊天机器人节点以继续对话\n",
    "graph_builder.add_edge(\"tools\", \"chatbot\")\n",
    "\n",
    "# 指定从 START 节点开始，进入聊天机器人节点\n",
    "graph_builder.add_edge(START, \"chatbot\")"
   ]
  },
  {
   "cell_type": "markdown",
   "id": "47bdf00b",
   "metadata": {},
   "source": [
    "\n",
    "### 6. 编译图并可视化\n",
    "\n",
    "使用以下代码可视化构建的状态图：\n",
    "\n"
   ]
  },
  {
   "cell_type": "code",
   "execution_count": 25,
   "id": "8ca50a69-6dcc-4b6d-b9d7-3afedf260d6d",
   "metadata": {},
   "outputs": [],
   "source": [
    "# 编译状态图，生成可执行的流程图\n",
    "graph = graph_builder.compile()"
   ]
  },
  {
   "cell_type": "code",
   "execution_count": 27,
   "id": "e6206f1b",
   "metadata": {},
   "outputs": [
    {
     "data": {
      "image/jpeg": "[encoded data removed]",
      "text/plain": [
       "<IPython.core.display.Image object>"
      ]
     },
     "metadata": {},
     "output_type": "display_data"
    }
   ],
   "source": [
    "from IPython.display import Image, display\n",
    "\n",
    "try:\n",
    "    display(Image(graph.get_graph().draw_mermaid_png()))\n",
    "except Exception:\n",
    "    pass\n"
   ]
  },
  {
   "cell_type": "markdown",
   "id": "c9f90b11",
   "metadata": {},
   "source": [
    "### 7. 运行图\n",
    "\n",
    "现在，我们可以询问机器人超出其训练数据范围的问题。\n",
    "\n",
    "#### 代码解析\n",
    "\n",
    "1. **`while True` 循环**：\n",
    "   - 这是一个无限循环，用于保持对话的持续进行，直到用户输入退出命令为止。每次用户输入一条消息，系统都会将消息传递给机器人进行处理。\n",
    "\n",
    "2. **用户输入**：\n",
    "   - `input(\"User: \")` 用于从用户处获取输入信息，模拟与机器人对话的场景。\n",
    "   - 如果用户输入的是 `\"quit\"`、`\"exit\"` 或 `\"q\"`，系统将打印 `\"Goodbye!\"` 并退出循环，结束程序。\n",
    "\n",
    "3. **`graph.stream`**：\n",
    "   - `graph.stream({\"messages\": [(\"user\", user_input)]})` 会将用户的输入消息传递给状态图（graph）进行处理，`graph` 会根据流程生成相应的回复。\n",
    "   - `\"messages\": [(\"user\", user_input)]`：这是传递给机器人对话系统的输入消息，表示来自用户的输入内容。\n",
    "\n",
    "4. **遍历 `event.values()`**：\n",
    "   - `graph.stream` 会生成一系列的 `event`，每个 `event` 都包含机器人的响应消息。通过遍历 `event.values()`，我们可以获取每个消息的内容。\n",
    "   - 如果最后一条消息是 `BaseMessage` 类型（机器人回复），则通过 `print(\"Assistant:\", value[\"messages\"][-1].content)` 将机器人的回复输出到控制台。\n",
    "\n",
    "5. **`BaseMessage`**：\n",
    "   - `BaseMessage` 是 LangChain 中的消息类型，用于表示机器人和用户之间的消息。在这里，它用于确认从机器人生成的消息是否符合标准格式。"
   ]
  },
  {
   "cell_type": "code",
   "execution_count": 29,
   "id": "0ddd8960",
   "metadata": {},
   "outputs": [
    {
     "name": "stdin",
     "output_type": "stream",
     "text": [
      "User:  详细介绍下美国2024年大选的候选人是谁，以及他们的得票情况\n"
     ]
    },
    {
     "name": "stdout",
     "output_type": "stream",
     "text": [
      "Assistant: \n",
      "Assistant: [{\"url\": \"https://www.bbc.com/zhongwen/articles/cn7mzrg3mxko/simp\", \"content\": \"\\u7f8e\\u56fd\\u5927\\u90092024\\uff1a\\u5373\\u65f6\\u5f00\\u7968\\u7ed3\\u679c - BBC News \\u4e2d\\u6587 BBC News, \\u4e2d\\u6587\\u8df3\\u8fc7\\u6b64\\u5185\\u5bb9 \\u5206\\u7c7b \\u4e3b\\u9875 \\u56fd\\u9645 \\u4e24\\u5cb8 \\u82f1\\u56fd \\u79d1\\u6280 \\u8d22\\u7ecf \\u89c6\\u9891\\u6750\\u6599 BBC\\u82f1\\u4f26\\u7f51 \\u4e3b\\u9875 \\u56fd\\u9645 \\u4e24\\u5cb8 \\u82f1\\u56fd \\u79d1\\u6280 \\u8d22\\u7ecf \\u89c6\\u9891\\u6750\\u6599 BBC\\u82f1\\u4f26\\u7f51 \\u7f8e\\u56fd\\u5927\\u90092024\\uff1a\\u5373\\u65f6\\u5f00\\u7968\\u7ed3\\u679c 2024\\u5e7411\\u67086\\u65e5\\u51cc\\u666812\\u70b925\\u5206 \\u6700\\u8fd1\\u66f4\\u65b0\\uff1a 5 \\u5c0f\\u65f6\\u524d \\u7f8e\\u56fd\\u5927\\u900911\\u67085\\u65e5\\u4e3e\\u884c\\u6295\\u7968\\uff0c\\u9664\\u4e86\\u51b3\\u5b9a\\u8c01\\u4eba\\u6210\\u4e3a\\u65b0\\u4efb\\u7f8e\\u56fd\\u603b\\u7edf\\uff0c\\u5165\\u4e3b\\u767d\\u5bab\\u5916\\uff0c\\u8fd8\\u5c06\\u51b3\\u5b9a\\u534e\\u76db\\u987f\\u56fd\\u4f1a\\u5c71\\u5e84\\uff08Capitol Hill\\uff09\\u4e24\\u5927\\u8bae\\u9662\\u7684\\u4eba\\u9009\\u3002 \\u4ee5\\u4e0bBBC\\u4e3a\\u4f60\\u5e26\\u6765\\u8054\\u90a6\\u4f17\\u8bae\\u9662\\uff08House of Representatives\\uff09\\u4e0e\\u8054\\u90a6\\u53c2\\u8bae\\u9662\\uff08Senate\\uff09\\u9009\\u4e3e\\u7684\\u5b9e\\u65f6\\u5f00\\u7968\\u60c5\\u51b5\\u3002 \\u8c01\\u662f\\u603b\\u7edf\\u5019\\u9009\\u4eba\\uff1f \\u4e24\\u5927\\u515a\\u6d3e\\u901a\\u8fc7\\u4e00\\u7cfb\\u5217\\u521d\\u9009\\u548c\\u515a\\u56e2\\u4f1a\\u8bae\\u6765\\u63d0\\u540d\\u603b\\u7edf\\u5019\\u9009\\u4eba\\uff0c\\u4eba\\u4eec\\u4ee5\\u6b64\\u6765\\u9009\\u4e3e\\u51fa\\u4ed6\\u4eec\\u5fc3\\u76ee\\u4e2d\\u80fd\\u4ee3\\u8868\\u515a\\u6d3e\\u53c2\\u4e0e\\u5927\\u9009\\u7684\\u4eba\\u3002 \\u5728\\u5171\\u548c\\u515a\\uff0c\\u524d\\u603b\\u7edf\\u5510\\u7eb3\\u5fb7\\u00b7\\u7279\\u6717\\u666e\\uff08Donald Trump\\uff09\\u4ee5\\u5de8\\u5927\\u7684\\u4f18\\u52bf\\u51fb\\u8d25\\u5bf9\\u624b\\uff0c\\u8d62\\u5f97\\u4ed6\\u7684\\u515a\\u6d3e\\u652f\\u6301\\u3002\\u4ed6\\u5728\\u5a01\\u65af\\u5eb7\\u8f9b\\u5dde\\u5bc6\\u5c14\\u6c83\\u57fa\\u5e02\\u7684\\u4e00\\u573a\\u515a\\u4ee3\\u8868\\u5927\\u4f1a\\u4e2d\\u6b63\\u5f0f\\u6210\\u4e3a\\u5171\\u548c\\u515a\\u5019\\u9009\\u4eba \\u6c11\\u4e3b\\u515a\\u65b9\\u9762\\uff0c\\u5728\\u603b\\u7edf\\u4e54\\u00b7\\u62dc\\u767b\\uff08Joe Biden\\uff09\\u9000\\u51fa\\u7ade\\u9009\\u4e4b\\u540e\\uff0c\\u526f\\u603b\\u7edf\\u5361\\u739b\\u62c9\\u00b7\\u54c8\\u91cc\\u65af\\uff08Kamala Harris\\uff09\\u5728\\u6ca1\\u6709\\u5176\\u4ed6\\u6c11\\u4e3b\\u515a\\u4eba\\u7ade\\u4e89\\u4e4b\\u4e0b\\u6210\\u4e3a\\u5019\\u9009\\u4eba\\u3002 \\u6b64\\u5916\\uff0c\\u8fd8\\u6709\\u4e00\\u4e9b\\u4eba\\u4ee5\\u72ec\\u7acb\\u53c2\\u9009\\u4eba\\u8eab\\u4efd\\u7ade\\u9010\\u603b\\u7edf\\u804c\\u4f4d\\u3002 \\u5982\\u4f55\\u5728\\u603b\\u7edf\\u9009\\u4e3e\\u4e2d\\u80dc\\u51fa\\uff1f \\u9009\\u4e3e\\u5e76\\u4e0d\\u662f\\u7531\\u5168\\u56fd\\u8303\\u56f4\\u5185\\u8d62\\u5f97\\u6700\\u591a\\u7968\\u6570\\u7684\\u90a3\\u4e2a\\u4eba\\u80dc\\u51fa\\uff0c\\u800c\\u662f\\u53cc\\u65b9\\u5019\\u9009\\u4eba\\u8981\\u572850\\u4e2a\\u5dde\\u4efd\\u8fdb\\u884c\\u7684\\u9009\\u6218\\u5f53\\u4e2d\\u7ade\\u9010\\u3002 \\u6bcf\\u4e2a\\u5dde\\u6709\\u4e00\\u5b9a\\u6570\\u91cf\\u7684\\u6240\\u8c13\\u9009\\u4e3e\\u4eba\\u7968\\uff08electoral college votes\\uff09\\uff0c\\u5b83\\u4e00\\u90e8\\u5206\\u662f\\u57fa\\u4e8e\\u8be5\\u5dde\\u7684\\u4eba\\u53e3\\u3002\\u5168\\u56fd\\u5171\\u6709538\\u5f20\\u9009\\u4e3e\\u4eba\\u7968\\uff0c\\u800c\\u8d62\\u5f97270\\u5f20\\u6216\\u4ee5\\u4e0a\\u9009\\u4e3e\\u4eba\\u7968\\u7684\\u5019\\u9009\\u4eba\\u5c31\\u5c06\\u80dc\\u9009\\u3002 \\u9664\\u4e24\\u4e2a\\u5dde\\u4efd\\u4ee5\\u5916\\uff0c\\u5404\\u5dde\\u5747\\u91c7\\u53d6\\u201c\\u8d62\\u5bb6\\u901a\\u5403\\u201d\\u7684\\u89c4\\u5219\\uff0c\\u5373\\u5019\\u9009\\u4eba\\u4e00\\u65e6\\u5728\\u8be5\\u5dde\\u83b7\\u5f97\\u6700\\u9ad8\\u7968\\u6570\\uff0c\\u5c31\\u5c06\\u5f97\\u5230\\u8be5\\u5dde\\u7684\\u5168\\u90e8\\u9009\\u4e3e\\u4eba\\u7968\\u3002 \\u5927\\u591a\\u6570\\u5dde\\u4efd\\u90fd\\u662f\\u538b\\u5012\\u6027\\u652f\\u6301\\u5176\\u4e2d\\u4e00\\u4e2a\\u515a\\u6d3e\\u7684\\uff0c\\u4e8e\\u662f\\u7ade\\u9009\\u7684\\u7126\\u70b9\\u901a\\u5e38\\u5c31\\u4f1a\\u843d\\u5728\\u5341\\u6765\\u4e2a\\u53cc\\u65b9\\u52bf\\u5747\\u529b\\u654c\\u7684\\u5dde\\u4efd\\uff0c\\u5b83\\u4eec\\u5c31\\u662f\\u4eba\\u4eec\\u6240\\u79f0\\u7684\\u6218\\u573a\\u5dde\\u6216\\u6447\\u6446\\u5dde\\u4efd\\u3002 \\u4e8e\\u662f\\u6709\\u4e00\\u79cd\\u53ef\\u80fd\\uff0c\\u4e00\\u540d\\u5019\\u9009\\u4eba\\u4f1a\\u5728\\u5168\\u56fd\\u8d62\\u5f97\\u6700\\u9ad8\\u7968\\u6570\\uff0c\\u4f46\\u662f\\u4ecd\\u7136\\u5728\\u9009\\u4e3e\\u4eba\\u7968\\u4e2d\\u843d\\u8d25\\u2014\\u2014\\u6bd4\\u59822016\\u5e74\\u7684\\u5e0c\\u62c9\\u91cc\\u00b7\\u514b\\u6797\\u987f\\uff08Hillary Clinton\\uff09\\u3002 \\u7f8e\\u56fd\\u5927\\u90092024 \\u7f8e\\u56fd\\u5927\\u9009\\u591a\\u5a92\\u4f53\\u76f4\\u64ad\\uff1a\\u7279\\u6717\\u666e\\u5bf9\\u51b3\\u5361\\u739b\\u62c9\\u00b7\\u54c8\\u91cc\\u65af \\u9009\\u4e3e\\u7ed3\\u679c\\u4f55\\u65f6\\u51fa\\u7089\\u548c\\u53ef\\u80fd\\u51fa\\u73b0\\u7684\\u7279\\u6b8a\\u60c5\\u51b5 \\u4e00\\u6587\\u770b\\u61c2\\u8fd9\\u4e00\\u5c4a\\u603b\\u7edf\\u9009\\u4e3e \\u53ef\\u80fd\\u51b3\\u5b9a\\u5927\\u9009\\u7684\\u4e03\\u4e2a\\u5173\\u952e\\u201c\\u6447\\u6446\\u5dde\\u201d \\u89c2\\u70b9\\uff1a\\u7537\\u5973\\u5019\\u9009\\u4eba\\u5bf9\\u51b3\\u610f\\u5473\\u7740\\u751a\\u4e48\\uff1f \\u4e2d\\u56fd\\u6709\\u504f\\u597d\\u7684\\u5019\\u9009\\u4eba\\u5417\\uff1f \\u4fc4\\u7f57\\u65af\\u5e72\\u9884\\u6307\\u63a7\\u518d\\u8d77\\uff0c\\u4e2d\\u56fd\\u4e5f\\u88ab\\u70b9\\u540d \\u5361\\u739b\\u62c9\\u00b7\\u54c8\\u91cc\\u65af\\u8fd8\\u662f\\u7279\\u6717\\u666e\\uff1f\\u4e2d\\u56fd\\u6c11\\u4f17\\u600e\\u4e48\\u770b \\u7f8e\\u56fd\\u534e\\u4eba\\u6295\\u7968\\u610f\\u5411\\u662f\\u4ec0\\u4e48\\uff1f \\u53f0\\u6e7e\\u6c11\\u4f17\\u770b\\u7f8e\\u56fd\\u5927\\u9009 \\u5982\\u679c\\u51fa\\u73b0\\u5e73\\u5c40\\u4f1a\\u5982\\u4f55\\uff1f \\u4e24\\u540d\\u5019\\u9009\\u4eba\\u82e5\\u83b7\\u5f97\\u76f8\\u540c\\u6570\\u91cf\\u7684\\u9009\\u4e3e\\u4eba\\u7968\\uff0c\\u5373269\\u7968\\uff0c\\u5219\\u53ef\\u80fd\\u51fa\\u73b0\\u5e73\\u5c40\\u3002 \\u5c4a\\u65f6\\uff0c\\u7f8e\\u56fd\\u8054\\u90a6\\u4f17\\u8bae\\u9662\\u2014\\u2014\\u56fd\\u4f1a\\u4e0b\\u9662\\u2014\\u2014\\u5c06\\u4e3e\\u884c\\u201c\\u6743\\u53d8\\u9009\\u4e3e\\u201d\\uff08contingent election\\uff0c\\u53c8\\u8bd1\\u201c\\u4e34\\u65f6\\u9009\\u4e3e\\u201d\\uff09\\uff0c\\u6295\\u7968\\u9009\\u51fa\\u603b\\u7edf\\u3002 \\u540c\\u65f6\\uff0c\\u8054\\u90a6\\u53c2\\u8bae\\u9662\\u2014\\u2014\\u56fd\\u4f1a\\u4e0a\\u9662\\u2014\\u2014\\u5c06\\u6295\\u7968\\u9009\\u51fa\\u526f\\u603b\\u7edf\\u3002 \\u4e0d\\u8fc7\\uff0c\\u8fd9\\u79cd\\u60c5\\u51b5\\u5df2\\u7ecf\\u7ea6200\\u5e74\\u672a\\u66fe\\u51fa\\u73b0\\u3002 \\u9664\\u4e86\\u9009\\u603b\\u7edf\\uff0c\\u8fd8\\u9009\\u4ec0\\u4e48\\uff1f \\u867d\\u7136\\u4eba\\u4eec\\u7684\\u5927\\u90e8\\u4efd\\u6ce8\\u610f\\u529b\\u7126\\u70b9\\u90fd\\u96c6\\u4e2d\\u5728\\u8c01\\u5c06\\u8d62\\u5f97\\u603b\\u7edf\\u4e4b\\u4f4d\\uff0c\\u4f46\\u662f\\u9009\\u6c11\\u5728\\u6295\\u7968\\u65f6\\u8fd8\\u5c06\\u9009\\u51fa\\u56fd\\u4f1a\\u6210\\u5458\\u2014\\u2014\\u56fd\\u4f1a\\u662f\\u7acb\\u6cd5\\u7684\\u5730\\u65b9\\u3002 \\u56fd\\u4f1a\\u7531435\\u5e2d\\u7684\\u4f17\\u8bae\\u9662\\u548c34\\u5e2d\\u7684\\u53c2\\u8bae\\u9662\\u7ec4\\u6210\\u3002 \\u5171\\u548c\\u515a\\u76ee\\u524d\\u63a7\\u5236\\u7740\\u4f17\\u8bae\\u9662\\uff0c\\u8fd9\\u662f\\u5236\\u8ba2\\u5f00\\u652f\\u8ba1\\u5212\\u7684\\u5730\\u65b9\\u3002\\u6c11\\u4e3b\\u515a\\u5219\\u628a\\u6301\\u7740\\u53c2\\u8bae\\u9662\\uff0c\\u8fd9\\u91cc\\u662f\\u6295\\u7968\\u51b3\\u5b9a\\u653f\\u5e9c\\u5173\\u952e\\u4eba\\u5458\\u4efb\\u547d\\u7684\\u5730\\u65b9\\u3002 \\u4e24\\u9662\\u51b3\\u5b9a\\u7acb\\u6cd5\\u901a\\u8fc7\\u4e0e\\u5426\\uff0c\\u4e14\\u80fd\\u591f\\u5728\\u591a\\u6570\\u6d3e\\u653f\\u515a\\u4e0e\\u603b\\u7edf\\u610f\\u89c1\\u4e0d\\u4e00\\u81f4\\u65f6\\uff0c\\u4f5c\\u4e3a\\u5bf9\\u767d\\u5bab\\u51b3\\u7b56\\u7684\\u5236\\u8861\\u3002 Play video, \\\"\\u7f8e\\u570b\\u5927\\u9078\\u5c07\\u5982\\u4f55\\u5f71\\u97ff\\u4e2d\\u7f8e\\u95dc\\u4fc2\\uff1f\\\", \\u8282\\u76ee\\u5168\\u957f 6,05 \\u89c6\\u9891\\u52a0\\u6ce8\\u6587\\u5b57\\uff0c2024 \\u7f8e\\u56fd\\u5927\\u9009\\u8fdb\\u5165\\u6700\\u540e\\u5012\\u6570\\uff0c\\u5361\\u739b\\u62c9\\u00b7\\u54c8\\u91cc\\u65af\\u4e0e\\u7279\\u6717\\u666e\\u7684\\u652f\\u6301\\u7387\\u4e0d\\u76f8\\u4e0a\\u4e0b\\uff0c\\u9009\\u4e3e\\u7ed3\\u679c\\u5c06\\u5982\\u4f55\\u5f71\\u54cd\\u7f8e\\u4e2d\\u5173\\u7cfb\\uff1f \\u66f4\\u591a\\u76f8\\u5173\\u5185\\u5bb9 \\u7f8e\\u56fd\\u5927\\u9009\\uff1a\\u4e2d\\u7f8e\\u5173\\u7cfb\\u6076\\u5316\\u4e0b\\u534e\\u88d4\\u79d1\\u5b66\\u5bb6\\u5982\\u5c65\\u8584\\u51b0\\u201c\\u4e0d\\u8981\\u518d\\u4e0e\\u4e2d\\u56fd\\u6709\\u4efb\\u4f55\\u74dc\\u845b\\u201d 2024\\u5e7411\\u67082\\u65e5 2024\\u7f8e\\u56fd\\u603b\\u7edf\\u5927\\u9009\\uff1a\\u4e00\\u6587\\u8bfb\\u61c2\\u79fb\\u6c11\\u5982\\u4f55\\u5f71\\u54cd\\u8fd9\\u4e2a\\u56fd\\u5bb6 2024\\u5e7411\\u67081\\u65e5 \\u7f8e\\u56fd\\u5927\\u9009\\u5012\\u8ba1\\u65f6\\uff1a\\u201c\\u53f0\\u7f8e\\u4eba\\u201d\\u5982\\u4f55\\u9009\\u62e9\\u7279\\u6717\\u666e\\u548c\\u5361\\u739b\\u62c9\\u00b7\\u54c8\\u91cc\\u65af\\uff1f 2024\\u5e7410\\u670831\\u65e5 \\u6211\\u5728\\u84dd\\u5dde\\u652f\\u6301\\u7279\\u6717\\u666e\\uff1a\\u534e\\u88d4\\u9009\\u6c11\\u4e3a\\u4f55\\u8f6c\\u6295\\u5171\\u548c\\u515a\\uff1f 2024\\u5e7411\\u67085\\u65e5 \\u7f8e\\u56fd\\u5927\\u9009\\uff1a\\u7b2c\\u4e00\\u4ee3\\u534e\\u4eba\\u79fb\\u6c11\\u5982\\u4f55\\u53c2\\u653f\\uff1f 2024\\u5e7411\\u67084\\u65e5 \\u7279\\u6717\\u666e\\u8eab\\u8fb9\\u6709\\u4e86\\u4e16\\u754c\\u9996\\u5bcc\\u7ad9\\u53f0 \\u9a6c\\u65af\\u514b\\u7a76\\u7adf\\u60f3\\u8981\\u4ec0\\u4e48\\uff1f 2024\\u5e7410\\u670823\\u65e5 \\u5934\\u6761\\u65b0\\u95fb \\u76f4\\u64ad, 2024\\u7f8e\\u56fd\\u5927\\u9009\\u591a\\u5a92\\u4f53\\u76f4\\u64ad\\uff1a\\u7279\\u6717\\u666e\\u5bf9\\u51b3\\u5361\\u739b\\u62c9\\u00b7\\u54c8\\u91cc\\u65af 2024\\u5e7411\\u67084\\u65e5 \\u7f8e\\u56fd\\u5927\\u90092024\\uff1a\\u9009\\u4e3e\\u7ed3\\u679c\\u4f55\\u65f6\\u51fa\\u7089\\u548c\\u53ef\\u80fd\\u51fa\\u73b0\\u7684\\u7279\\u6b8a\\u60c5\\u51b5 2024\\u5e7411\\u67085\\u65e5 \\u7f8e\\u56fd\\u603b\\u7edf\\u5927\\u9009\\u7ed3\\u679c\\u4f1a\\u53d7\\u6cd5\\u5f8b\\u6311\\u6218\\u5417\\uff1f 1 \\u5c0f\\u65f6\\u524d \\u7279\\u522b\\u63a8\\u8350 \\u51cf\\u80a5\\u836f\\u5c06\\u5982\\u4f55\\u6539\\u53d8\\u6211\\u4eec\\u4e0e\\u98df\\u7269\\u7684\\u5173\\u7cfb 2024\\u5e7410\\u670822\\u65e5 \\u53f0\\u79ef\\u7535\\u5148\\u8fdbAI\\u6676\\u7247\\u6d41\\u5165\\u534e\\u4e3a \\u51f8\\u663e\\u5bf9\\u534e\\u6676\\u7247\\u7981\\u8fd0\\u7684\\u76d1\\u7ba1\\u56f0\\u5883 2024\\u5e7410\\u670825\\u65e5 \\u7f8e\\u56fd\\u5927\\u9009\\uff1a\\u4fc4\\u7f57\\u65af\\u8fd9\\u6b21\\u8fd8\\u671f\\u671b\\u7279\\u6717\\u666e\\u80dc\\u9009\\u5417\\uff1f\\u83ab\\u65af\\u79d1\\u5e02\\u6c11\\u600e\\u4e48\\u60f3\\uff1f 2024\\u5e7410\\u670821\\u65e5 \\u5362\\u5361\\u7533\\u79d1\\u63a5\\u53d7BBC\\u4e13\\u8bbf\\uff1a\\u671d\\u9c9c\\u519b\\u961f\\u8fdb\\u9a7b\\u4e4c\\u514b\\u5170\\u5c06\\u52a0\\u5267\\u51b2\\u7a81 2024\\u5e7410\\u670824\\u65e5 BBC News, \\u4e2d\\u6587 \\u00a9 2024 BBC.\"}, {\"url\": \"https://finance.sina.com.cn/jjxw/2024-11-06/doc-incvauef3587577.shtml\", \"content\": \"\\u5f53\\u5730\\u65f6\\u95f411\\u67085\\u65e5\\uff0c2024\\u5e74\\u7f8e\\u56fd\\u603b\\u7edf\\u5927\\u9009\\u8fdb\\u5165\\u6b63\\u5f0f\\u6295\\u7968\\u3002 \\u4e0b\\u4efb\\u7f8e\\u56fd\\u603b\\u7edf\\u5c06\\u5728\\u6c11\\u4e3b\\u515a\\u603b\\u7edf\\u5019\\u9009\\u4eba\\u3001\\u73b0\\u4efb\\u526f\\u603b\\u7edf\\u5361\\u739b\\u62c9\\u00b7\\u54c8\\u91cc\\u65af\\u53ca\\u5171\\u548c\\u515a\\u603b\\u7edf\\u5019\\u9009\\u4eba\\u3001\\u524d\\u603b\\u7edf\\u5510\\u7eb3\\u5fb7\\u00b7\\u7279\\u6717\\u666e\\u4e4b\\u95f4\\u9009\\u51fa\\u3002 \\u5317\\u4eac\\u65f6\\u95f49\\u70b913\\u5206 \\u622a\\u81f3\\u5f53\\u5730\\u65f6\\u95f411\\u67085\\u65e5\\u665a\\u4e0a8\\u70b9\\uff0c\\u5317\\u4eac\\u65f6\\u95f4\\u4eca\\u5929\\uff0811\\u67086\\u65e5\\uff09\\u4e0a\\u53489\\u70b9\\uff0c\\u7f8e\\u56fd\\u5df2\\u670916\\u4e2a\\u5dde\\u548c\\u534e\\u76db\\u987f\\u7279\\u533a\\u7684\\u6295\\u7968\\u7ad9\\u9646\\u7eed\\u5173\\u95ed\\u3002 \\u636e\\u7f8e\\u8054\\u793e\\u9884\\u6d4b\\uff0c \\u5171\\u548c\\u515a\\u603b\\u7edf\\u5019\\u9009\\u4eba\\u7279\\u6717\\u666e \\u8d62\\u5f97\\u4e86\\u4e9a\\u62c9\\u5df4\\u9a6c\\u5dde\\u3001\\u5bc6\\u897f\\u897f\\u6bd4\\u5dde\\u3001\\u5357\\u5361\\u7f57\\u6765\\u7eb3\\u5dde\\u3001\\u4fc4\\u514b\\u62c9\\u4f55\\u9a6c\\u5dde\\u3001\\u4f5b\\u7f57\\u91cc\\u8fbe\\u5dde\\u3001\\u7530\\u7eb3\\u897f\\u5dde\\uff0c \\u5171\\u8ba1\\u83b7\\u5f97\\u4e8695\\u5f20\\u9009\\u4e3e\\u4eba\\u7968\\u3002 \\u6c11\\u4e3b\\u515a\\u5019\\u9009\\u4eba\\u54c8\\u91cc\\u65af \\u8d62\\u5f97\\u4e86\\u9a6c\\u8428\\u8bf8\\u585e\\u5dde\\u3001\\u5eb7\\u6d85\\u72c4\\u683c\\u5dde\\u3001\\u9a6c\\u91cc\\u5170\\u5dde\\u3001\\u7f57\\u5fb7\\u5c9b\\u5dde\\u548c\\u534e\\u76db\\u987f\\u7279\\u533a\\uff0c \\u5171\\u8ba135\\u5f20\\u5019\\u9009\\u4eba\\u7968\\u3002\"}]\n",
      "Assistant: 关于2024年美国大选的候选人及得票情况的详细信息如下：\n",
      "\n",
      "1. **主要候选人**：\n",
      "   - **现任总统乔·拜登（Joe Biden）**：民主党候选人，曾于2020年当选为美国总统。\n",
      "   - **前总统唐纳德·特朗普（Donald Trump）**：共和党候选人，曾于2016年当选为美国总统。\n",
      "   - **副总统卡马拉·哈里斯（Kamala Harris）**：与拜登共同竞选连任。\n",
      "   - **其他候选人**：可能还有独立候选人和其他小党派候选人，具体人选和支持度可能会随着时间变化而有所调整。\n",
      "\n",
      "2. **得票情况**：\n",
      "   - 根据最新的民调和选票预测，拜登和特朗普的支持率仍然较高。拜登在一些重要州的表现可能会影响选举的最终结果。\n",
      "   - 目前，民调显示拜登在一些蓝州（如加利福尼亚州和纽约州）具有强大的支持，而特朗普在红州（如德克萨斯州和佛罗里达州）表现更为强劲。\n",
      "   - 选举将通过选举人团制度进行，需获得至少270张选举人票才能胜选。全美共有538张选举人票。\n",
      "\n",
      "3. **选举日**：\n",
      "   - 2024年美国大选定于11月5日举行，届时将进行正式投票。\n",
      "\n",
      "4. **影响因素**：\n",
      "   - 经济状况、社会问题（如枪支管制、移民政策）以及国际局势等都可能对选民的选择产生重要影响。\n",
      "\n",
      "如果您想了解更详细的信息或特定候选人的背景，可以进一步查询相关资料。\n"
     ]
    },
    {
     "name": "stdin",
     "output_type": "stream",
     "text": [
      "User:  根据11月6日的投票结果，特朗普已经获胜了？\n"
     ]
    },
    {
     "name": "stdout",
     "output_type": "stream",
     "text": [
      "Assistant: \n",
      "Assistant: [{\"url\": \"https://cn.nytimes.com/usa/20241106/us-election-live/\", \"content\": \"\\u805a\\u7126\\u7f8e\\u56fd\\u5927\\u9009\\uff1a\\u7279\\u6717\\u666e\\u5728\\u5173\\u952e\\u5dde\\u4ee5\\u5fae\\u5f31\\u4f46\\u660e\\u663e\\u4f18\\u52bf\\u9886\\u5148 - \\u7ebd\\u7ea6\\u65f6\\u62a5\\u4e2d\\u6587\\u7f51 \\u56fd\\u9645 \\u4e2d\\u56fd \\u5546\\u4e1a\\u4e0e\\u7ecf\\u6d4e \\u955c\\u5934 \\u79d1\\u6280 \\u79d1\\u5b66 \\u5065\\u5eb7 \\u6559\\u80b2 \\u6587\\u5316 \\u98ce\\u5c1a \\u65c5\\u6e38 \\u623f\\u5730\\u4ea7 \\u89c2\\u70b9\\u4e0e\\u8bc4\\u8bba \\u7b80\\u7e41\\u4e2d\\u6587 \\u7b80\\u4f53 \\u7e41\\u4f53 \\u7ebd\\u7ea6\\u65f6\\u62a5 \\u51fa\\u7248\\u8bed\\u8a00 ENGLISH (\\u82f1\\u8bed) ESPA\\u00d1OL (\\u897f\\u73ed\\u7259\\u8bed) \\u5b57\\u4f53\\u5927\\u5c0f \\u8d85\\u5927 \\u7f8e\\u56fd \\u5b9e\\u65f6\\u66f4\\u65b0 \\u805a\\u7126\\u7f8e\\u56fd\\u5927\\u9009\\uff1a\\u7279\\u6717\\u666e\\u5728\\u5173\\u952e\\u5dde\\u4ee5\\u5fae\\u5f31\\u4f46\\u660e\\u663e\\u4f18\\u52bf\\u9886\\u5148 \\u300a\\u7ebd\\u7ea6\\u65f6\\u62a5\\u300b 2024\\u5e7411\\u67086\\u65e5 Scott McIntyre for The New York Times \\uff08\\u672c\\u6587\\u6301\\u7eed\\u66f4\\u65b0\\u4e2d\\uff09 \\u9996\\u4e2a\\u6447\\u6446\\u5dde\\u7ed3\\u679c\\u51fa\\u7089\\uff1a\\u7279\\u6717\\u666e\\u8d62\\u5f97\\u5317\\u5361\\u7f57\\u6765\\u7eb3\\u5dde\\u3002\\u4ed6\\u5728\\u9009\\u4e3e\\u4eba\\u56e2\\u7968\\u4e0a\\u9886\\u5148\\u4e8e\\u8d3a\\u9526\\u4e3d\\u3002 \\u65f6\\u62a5\\u9996\\u5e2d\\u653f\\u6cbb\\u5206\\u6790\\u5e08\\u5948\\u7279\\u00b7\\u79d1\\u6069\\uff1a\\u8fd9\\u662f\\u6211\\u4eec\\u4eca\\u665a\\u9996\\u6b21\\u8ba4\\u4e3a\\uff0c\\u7279\\u6717\\u666e\\u5f88\\u53ef\\u80fd\\u4f1a\\u8d62\\u5f97\\u603b\\u7edf\\u5927\\u9009\\u3002\\u4ed6\\u5728\\u5bbe\\u5915\\u6cd5\\u5c3c\\u4e9a\\u5dde\\u3001\\u5bc6\\u6b47\\u6839\\u5dde\\u548c\\u5a01\\u65af\\u5eb7\\u8f9b\\u5dde\\u5747\\u5360\\u6709\\u4f18\\u52bf\\u3002\\u8d3a\\u9526\\u4e3d\\u9700\\u8981\\u5c06\\u8fd9\\u4e09\\u4e2a\\u5dde\\u5168\\u90e8\\u62ff\\u4e0b\\uff0c\\u624d\\u53ef\\u4ee5\\u53d6\\u80dc\\u3002\\u867d\\u7136\\u8fd8\\u5269\\u4e0b\\u5f88\\u591a\\u9009\\u7968\\u5c1a\\u672a\\u7edf\\u8ba1\\uff0c\\u4f46\\u4ece\\u76ee\\u524d\\u7684\\u6295\\u7968\\u60c5\\u51b5\\u6765\\u770b\\uff0c\\u7279\\u6717\\u666e\\u4ee5\\u5fae\\u5f31\\u4f46\\u660e\\u663e\\u7684\\u4f18\\u52bf\\u9886\\u5148\\u3002 \\u76ee\\u524d\\u5927\\u591a\\u6570\\u6295\\u7968\\u7ad9\\u90fd\\u5df2\\u5173\\u95ed\\uff0c\\u5168\\u7f8e\\u4eba\\u6c11\\u7126\\u6025\\u5730\\u7b49\\u5f85\\u7740\\u524d\\u603b\\u7edf\\u7279\\u6717\\u666e\\u6216\\u526f\\u603b\\u7edf\\u8d3a\\u9526\\u4e3d\\u5728\\u7b2c\\u4e00\\u4e2a\\u6447\\u6446\\u5dde\\u7684\\u9009\\u4e3e\\u7ed3\\u679c\\uff0c\\u8fd9\\u662f\\u7f8e\\u56fd\\u73b0\\u4ee3\\u53f2\\u4e0a\\u6700\\u91cd\\u8981\\u7684\\u603b\\u7edf\\u9009\\u4e3e\\u4e4b\\u4e00\\u3002 \\u5e7f\\u544a \\u4e00\\u4e2a\\u53c8\\u4e00\\u4e2a\\u5dde\\u7684\\u6295\\u7968\\u7ed3\\u679c\\u5df2\\u6839\\u636e\\u515a\\u6d3e\\u503e\\u5411\\u51fa\\u7089\\uff0c\\u8fdb\\u5165\\u7279\\u6717\\u666e\\u548c\\u54c8\\u91cc\\u65af\\u7684\\u83b7\\u80dc\\u5217\\u8868\\u3002\\u4f46\\u51b3\\u5b9a\\u4e0b\\u4e00\\u4efb\\u603b\\u7edf\\u7684\\u5dde\\u2014\\u2014\\u4e9a\\u5229\\u6851\\u90a3\\u5dde\\u3001\\u5a01\\u65af\\u5eb7\\u8f9b\\u5dde\\u3001\\u4f50\\u6cbb\\u4e9a\\u5dde\\u3001\\u5317\\u5361\\u7f57\\u83b1\\u7eb3\\u5dde\\u3001\\u5bbe\\u5915\\u6cd5\\u5c3c\\u4e9a\\u5dde\\u3001\\u5bc6\\u6b47\\u6839\\u5dde\\u548c\\u5185\\u534e\\u8fbe\\u5dde\\u2014\\u2014\\u4ecd\\u7136\\u96be\\u5206\\u80dc\\u8d1f\\u3002\\u65e9\\u671f\\u6570\\u636e\\u663e\\u793a\\uff0c\\u9009\\u60c5\\u975e\\u5e38\\u6fc0\\u70c8\\uff0c\\u5c24\\u5176\\u662f\\u5728\\u4e94\\u5927\\u6e56\\u5468\\u56f4\\u7684\\u6240\\u8c13\\u201c\\u84dd\\u5899\\u5dde\\u201d\\u3002 \\u5728\\u4f50\\u6cbb\\u4e9a\\u5dde\\u3001\\u4e9a\\u5229\\u6851\\u90a3\\u5dde\\u548c\\u5bc6\\u6b47\\u6839\\u5dde\\u7b49\\u6447\\u6446\\u5dde\\u7684\\u6295\\u7968\\u7ad9\\uff0c\\u70b8\\u5f39\\u5a01\\u80c1\\u56db\\u8d77\\u3002\\u5b98\\u5458\\u4eec\\u8868\\u793a\\uff0c\\u8fd9\\u4e9b\\u5a01\\u80c1\\u4f3c\\u4e4e\\u90fd\\u4e0d\\u53ef\\u4fe1\\uff0c\\u4f46\\u81f3\\u5c11\\u5728\\u4f50\\u6cbb\\u4e9a\\u5dde\\u548c\\u4e9a\\u5229\\u6851\\u90a3\\u5dde\\uff0c\\u4e00\\u4e9b\\u6295\\u7968\\u7ad9\\u5c06\\u56e0\\u6b64\\u5f00\\u653e\\u81f3\\u66f4\\u665a\\u3002 \\u5728\\u8fd9\\u6837\\u7684\\u969c\\u788d\\u9762\\u524d\\uff0c\\u9009\\u6c11\\u4eec\\u6b63\\u5728\\u9009\\u62e9\\u8fd9\\u4e2a\\u56fd\\u5bb6\\u5c06\\u8d70\\u5411\\u54ea\\u4e2a\\u5168\\u65b0\\u7684\\u65b9\\u5411\\u3002\\u8d3a\\u9526\\u4e3d\\u4f1a\\u6210\\u4e3a\\u7b2c\\u4e00\\u4f4d\\u5973\\u6027\\u603b\\u7edf\\u5417\\uff1f\\u8fd8\\u662f\\u7279\\u6717\\u666e\\u4f1a\\u6210\\u4e3a120\\u591a\\u5e74\\u6765\\u9996\\u4f4d\\u56db\\u5e74\\u524d\\u8d25\\u9009\\u540e\\u53c8\\u91cd\\u8fd4\\u767d\\u5bab\\u7684\\u603b\\u7edf\\uff1f \\u867d\\u7136\\u9009\\u4e3e\\u5c1a\\u672a\\u7ed3\\u675f\\uff0c\\u4f46\\u7279\\u6717\\u666e\\u8868\\u73b0\\u51fa\\u5b9e\\u529b\\uff0c\\u8f7b\\u677e\\u8d62\\u5f97\\u4e86\\u5f97\\u514b\\u8428\\u65af\\u548c\\u4f5b\\u7f57\\u91cc\\u8fbe\\u7b49\\u5dde\\u3002\\u4f5b\\u7f57\\u91cc\\u8fbe\\u5dde\\u7684\\u5171\\u548c\\u515a\\u9886\\u5bfc\\u4eba\\u8fd8\\u632b\\u8d25\\u4e86\\u5815\\u80ce\\u548c\\u5927\\u9ebb\\u5408\\u6cd5\\u5316\\u7684\\u9009\\u7968\\u8868\\u51b3\\u63d0\\u6848\\uff0c\\u4e24\\u9879\\u63d0\\u6848\\u90fd\\u672a\\u80fd\\u8fbe\\u5230\\u6240\\u9700\\u768460%\\u652f\\u6301\\u7387\\u3002 \\u4e03\\u4e2a\\u5173\\u952e\\u5dde\\u7684\\u6c11\\u610f\\u8c03\\u67e5\\u663e\\u793a\\uff0c\\u8fd9\\u6b21\\u7ade\\u9009\\u52bf\\u5747\\u529b\\u654c\\u3002 Jordan Gale for The New York Times \\u6b64\\u523b\\u6295\\u7968\\u7ad9\\u5df2\\u7ecf\\u9646\\u7eed\\u5173\\u95ed\\uff0c\\u8fd9\\u662f\\u7f8e\\u56fd\\u73b0\\u4ee3\\u53f2\\u4e0a\\u6700\\u91cd\\u8981\\u7684\\u603b\\u7edf\\u9009\\u4e3e\\u4e4b\\u4e00\\uff0c\\u9009\\u6c11\\u4eec\\u6d8c\\u5411\\u6559\\u5802\\u3001\\u5b66\\u6821\\u548c\\u793e\\u533a\\u4e2d\\u5fc3\\uff0c\\u5851\\u9020\\u7f8e\\u56fd\\u6c11\\u4e3b\\u7684\\u672a\\u6765\\u3002 \\u65e0\\u8bba\\u662f\\u526f\\u603b\\u7edf\\u8d3a\\u9526\\u4e3d\\u6210\\u4e3a\\u9996\\u4f4d\\u5973\\u603b\\u7edf\\uff0c\\u8fd8\\u662f\\u7279\\u6717\\u666e\\u6210\\u4e3a120\\u591a\\u5e74\\u6765\\u9996\\u4f4d\\u5728\\u56db\\u5e74\\u524d\\u4e0b\\u53f0\\u540e\\u91cd\\u8fd4\\u529e\\u516c\\u5ba4\\u7684\\u603b\\u7edf\\uff0c\\u4e24\\u79cd\\u7ed3\\u679c\\u90fd\\u5c06\\u521b\\u9020\\u5386\\u53f2\\u3002 \\u5e7f\\u544a \\u8fd9\\u4e00\\u6b21\\uff0c\\u5973\\u6027\\u6709\\u673a\\u4f1a\\u6253\\u7834\\u5e0c\\u62c9\\u91cc\\u00b7\\u514b\\u6797\\u987f\\u66fe\\u8bf4\\u8fc7\\u7684\\u201c\\u6700\\u9ad8\\u3001\\u6700\\u786c\\u7684\\u73bb\\u7483\\u5929\\u82b1\\u677f\\u201d\\uff0c\\u6839\\u636e\\u65e9\\u671f\\u7684\\u6295\\u7968\\u603b\\u6570\\uff0c\\u5979\\u4eec\\u4f3c\\u4e4e\\u63a8\\u52a8\\u4e86\\u521b\\u7eaa\\u5f55\\u7684\\u6295\\u7968\\u7387\\u2014\\u2014\\u53ef\\u80fd\\u5728\\u6027\\u522b\\u5dee\\u8ddd\\u4e0a\\u4e5f\\u521b\\u4e0b\\u4e86\\u7eaa\\u5f55\\u3002\\u5979\\u4eec\\u5e0c\\u671b\\u628a\\u7b2c\\u4e00\\u4f4d\\u5973\\u6027\\u9001\\u5165\\u692d\\u5706\\u5f62\\u529e\\u516c\\u5ba4\\uff0c\\u626d\\u8f6c\\u81ea\\u5e9f\\u9664\\u7f57\\u8bc9\\u97e6\\u5fb7\\u6848\\u4ee5\\u6765\\u5815\\u80ce\\u6743\\u53d7\\u5230\\u4fb5\\u8680\\u7684\\u5c40\\u9762\\u3002 \\u7279\\u6717\\u666e\\u7684\\u9009\\u6c11\\u540c\\u6837\\u6709\\u610f\\u53d1\\u51fa\\u660e\\u786e\\u7684\\u4fe1\\u606f\\uff1a\\u4ed6\\u4eec\\u538c\\u5026\\u4e86\\u62dc\\u767b\\u653f\\u5e9c\\u5bf9\\u7ecf\\u6d4e\\u7684\\u5904\\u7406\\uff0c\\u5e76\\u51c6\\u5907\\u63a5\\u53d7\\u524d\\u603b\\u7edf\\u5173\\u4e8e\\u5927\\u89c4\\u6a21\\u9a71\\u9010\\u65e0\\u8bc1\\u79fb\\u6c11\\u3001\\u66f4\\u5e7f\\u6cdb\\u5730\\u6253\\u51fb\\u72af\\u7f6a\\u548c\\u5f02\\u89c1\\u4eba\\u58eb\\u7684\\u547c\\u5401\\u2014\\u2014\\u5373\\u4f7f\\u8fd9\\u610f\\u5473\\u7740\\u63a5\\u53d7\\u653f\\u4ee4\\u4e4b\\u4e0b\\u7684\\u66b4\\u529b\\u3002 \\u8d85\\u8fc78000\\u4e07\\u9009\\u6c11\\u63d0\\u524d\\u6295\\u7968\\uff0c\\u4f46\\u8fd8\\u6709\\u6570\\u5343\\u4e07\\u4eba\\u4e00\\u76f4\\u7b49\\u5230\\u4e86\\u9009\\u4e3e\\u65e5\\u3002\\u8ba1\\u7968\\u5de5\\u4f5c\\u5c06\\u6301\\u7eed\\u5230\\u5468\\u4e8c\\u4e4b\\u540e\\uff0c\\u800c\\u603b\\u7edf\\u7ade\\u9009\\u7ed3\\u679c\\u7684\\u786e\\u5b9a\\u53ef\\u80fd\\u4e5f\\u8981\\u7b49\\u5230\\u90a3\\u4e2a\\u65f6\\u5019\\uff0c\\u56e0\\u4e3a\\u5019\\u9009\\u4eba\\u90fd\\u5728\\u4e89\\u53d6\\u83b7\\u5f97\\u9009\\u4e3e\\u56e2\\u591a\\u6570\\u7968\\u6240\\u9700\\u7684270\\u5f20\\u9009\\u4e3e\\u4eba\\u7968\\u3002 \\u5c3d\\u7ba1\\u4ece\\u4e1c\\u6d77\\u5cb8\\u5230\\u897f\\u6d77\\u5cb8\\u6295\\u7968\\u7387\\u90fd\\u5f88\\u9ad8\\uff0c\\u4f46\\u53ea\\u6709\\u4e03\\u4e2a\\u5dde\\u6709\\u53ef\\u80fd\\u51b3\\u5b9a\\u80dc\\u8d1f\\uff1a\\u5bbe\\u5915\\u6cd5\\u5c3c\\u4e9a\\u5dde\\u3001\\u5bc6\\u6b47\\u6839\\u5dde\\u3001\\u5a01\\u65af\\u5eb7\\u8f9b\\u5dde\\u3001\\u4f50\\u6cbb\\u4e9a\\u5dde\\u3001\\u5317\\u5361\\u7f57\\u6765\\u7eb3\\u5dde\\u3001\\u4e9a\\u5229\\u6851\\u90a3\\u5dde\\u548c\\u5185\\u534e\\u8fbe\\u5dde\\u3002\\u4f50\\u6cbb\\u4e9a\\u5dde\\u7684\\u6295\\u7968\\u4e8e\\u665a\\u4e0a7\\u70b9\\u7ed3\\u675f\\uff0c\\u5317\\u5361\\u7f57\\u6765\\u7eb3\\u5dde\\u7684\\u6295\\u7968\\u4e8e\\u665a\\u4e0a7\\u70b9\\u534a\\u7ed3\\u675f\\u3002 \\u4f50\\u6cbb\\u4e9a\\u5dde\\u662f\\u51e0\\u4e2a\\u6218\\u573a\\u5dde\\u4e4b\\u4e00\\uff0c\\u8be5\\u5dde\\u7684\\u9009\\u4e3e\\u5b98\\u5458\\u9884\\u8ba1\\uff0c\\u4eca\\u5e74\\u8be5\\u5dde\\u7684\\u603b\\u6295\\u7968\\u7387\\u5c06\\u8d85\\u8fc72020\\u5e74\\u603b\\u7edf\\u5927\\u9009\\u3002\\u5728\\u5bc6\\u6b47\\u6839\\u5dde\\uff0c\\u201c\\u6295\\u7968\\u7387\\u7834\\u4e86\\u7eaa\\u5f55\\uff0c\\u201d\\u8be5\\u5dde\\u5dde\\u52a1\\u537f\\u4e54\\u65af\\u6797\\u00b7\\u672c\\u68ee\\u8bf4\\u3002 \\u9664\\u4e86\\u767d\\u5bab\\uff0c\\u5728\\u53cc\\u65b9\\u5dee\\u5f02\\u5f88\\u5c0f\\u7684\\u56fd\\u4f1a\\uff0c\\u63a7\\u5236\\u6743\\u4e89\\u593a\\u4e5f\\u5904\\u4e8e\\u5173\\u952e\\u65f6\\u523b\\u3002\\u6c11\\u4e3b\\u515a\\u4eba\\u5fc5\\u987b\\u5728\\u5171\\u548c\\u515a\\u63a7\\u5236\\u7684\\u4fc4\\u4ea5\\u4fc4\\u5dde\\u548c\\u8499\\u5927\\u62ff\\u5dde\\u53d6\\u80dc\\uff0c\\u624d\\u80fd\\u4fdd\\u6301\\u5728\\u53c2\\u8bae\\u9662\\u4ee5\\u4e00\\u5e2d\\u591a\\u6570\\u9886\\u5148\\u7684\\u63a7\\u5236\\u6743\\u3002\\u4f46\\u662f\\uff0c\\u4f17\\u8bae\\u9662\\u5173\\u952e\\u5e2d\\u4f4d\\u5728\\u6700\\u540e\\u5173\\u5934\\u5012\\u5411\\u6c11\\u4e3b\\u515a\\uff0c\\u53ef\\u80fd\\u4f1a\\u7ec8\\u7ed3\\u5171\\u548c\\u515a\\u5728\\u4f17\\u8bae\\u9662\\u4fdd\\u6301\\u56db\\u5e2d\\u5dee\\u8ddd\\u7684\\u591a\\u6570\\u5730\\u4f4d\\u3002 \\u5e7f\\u544a \\u8fd8\\u670910\\u4e2a\\u5dde\\u5728\\u6295\\u7968\\u51b3\\u5b9a\\u662f\\u5426\\u5728\\u5dde\\u5baa\\u6cd5\\u4e2d\\u589e\\u52a0\\u5bf9\\u5815\\u80ce\\u6743\\u7684\\u4fdd\\u62a4\\u3002\\u5728\\u4e00\\u4e9b\\u5dde\\uff0c\\u9009\\u6c11\\u8fd8\\u6709\\u6743\\u63d0\\u9ad8\\u6700\\u4f4e\\u5de5\\u8d44\\uff0c\\u4f7f\\u5927\\u9ebb\\u5408\\u6cd5\\u5316\\uff0c\\u5e76\\u7ed3\\u675f\\u4e0d\\u516c\\u6b63\\u7684\\u515a\\u6d3e\\u9009\\u533a\\u5212\\u5206\\u3002 \\u5c3d\\u7ba1\\u5c40\\u52bf\\u7d27\\u5f20\\uff0c\\u4f46\\u5230\\u76ee\\u524d\\u4e3a\\u6b62\\uff0c\\u5bf9\\u5927\\u89c4\\u6a21\\u66b4\\u529b\\u6216\\u6050\\u5413\\u9009\\u6c11\\u884c\\u4e3a\\u7684\\u62c5\\u5fe7\\u5c1a\\u672a\\u5f97\\u5230\\u8bc1\\u5b9e\\u3002\\u8054\\u90a6\\u8c03\\u67e5\\u5c40\\u786e\\u5b9e\\u8868\\u793a\\uff0c\\u5b83\\u77e5\\u9053\\u51e0\\u4e2a\\u5dde\\u7684\\u6295\\u7968\\u7ad9\\u53d7\\u5230\\u70b8\\u5f39\\u5a01\\u80c1\\uff0c\\u201c\\u5176\\u4e2d\\u8bb8\\u591a\\u4f3c\\u4e4e\\u6765\\u81ea\\u4fc4\\u7f57\\u65af\\u7684\\u7535\\u5b50\\u90ae\\u4ef6\\u57df\\u540d\\u201d\\u3002\\u5b98\\u5458\\u4eec\\u8868\\u793a\\uff0c\\u8fd9\\u4e9b\\u5a01\\u80c1\\u4f3c\\u4e4e\\u90fd\\u4e0d\\u53ef\\u4fe1\\u3002\\u4e00\\u540d\\u7537\\u5b50\\u643a\\u5e26\\u706b\\u70ac\\u548c\\u4fe1\\u53f7\\u67aa\\uff0c\\u8eab\\u4e0a\\u6563\\u53d1\\u7740\\u71c3\\u6599\\u7684\\u6c14\\u5473\\uff0c\\u8bd5\\u56fe\\u8fdb\\u5165\\u7f8e\\u56fd\\u56fd\\u4f1a\\u5927\\u53a6\\uff0c\\u5e76\\u88ab\\u902e\\u6355\\uff0c\\u5bfc\\u81f4\\u5f53\\u5929\\u7684\\u53c2\\u89c2\\u6d3b\\u52a8\\u6682\\u505c\\u3002 \\u7f8e\\u56fd\\u60c5\\u62a5\\u548c\\u6267\\u6cd5\\u5b98\\u5458\\u6b63\\u5728\\u5bc6\\u5207\\u5173\\u6ce8\\u5a01\\u80c1\\uff0c\\u5e76\\u9884\\u8ba1\\u4f1a\\u51fa\\u73b0\\u66f4\\u591a\\u79f0\\u9009\\u4e3e\\u5b58\\u5728\\u821e\\u5f0a\\u7684\\u865a\\u5047\\u62a5\\u9053\\uff0c\\u5c24\\u5176\\u662f\\u6765\\u81ea\\u4fc4\\u7f57\\u65af\\u7684\\u5a01\\u80c1\\uff0c\\u4f46\\u6ca1\\u6709\\u9884\\u6d4b\\u5730\\u65b9\\u6295\\u7968\\u57fa\\u7840\\u8bbe\\u65bd\\u4f1a\\u53d7\\u5230\\u7f51\\u7edc\\u653b\\u51fb\\u3002 \\u7279\\u6717\\u666e\\u5728\\u4f5b\\u7f57\\u91cc\\u8fbe\\u5dde\\u6295\\u7968\\uff0c\\u7136\\u540e\\u5728\\u4ed6\\u7684\\u6d77\\u6ee8\\u522b\\u5885\\u9a6c\\u963f\\u62c9\\u6b4c\\u5e84\\u56ed\\u7b49\\u5f85\\u6295\\u7968\\u7ed3\\u679c\\u3002\\u901a\\u8fc7\\u90ae\\u4ef6\\u6295\\u7968\\u7684\\u8d3a\\u9526\\u4e3d\\u5728\\u534e\\u76db\\u987f\\u7684\\u6c11\\u4e3b\\u515a\\u5168\\u56fd\\u59d4\\u5458\\u4f1a\\u603b\\u90e8\\u9a7b\\u8db3\\uff0c\\u611f\\u8c22\\u7535\\u8bdd\\u4e2d\\u5fc3\\u7684\\u5fd7\\u613f\\u8005\\u3002\\u5979\\u751a\\u81f3\\u4eb2\\u81ea\\u6253\\u8d77\\u4e86\\u7535\\u8bdd\\u3002 \\u201c\\u6211\\u5f88\\u597d\\uff0c\\u201d\\u5979\\u5728\\u548c\\u4e00\\u4e2a\\u6f5c\\u5728\\u652f\\u6301\\u8005\\u901a\\u7535\\u8bdd\\u65f6\\u8bf4\\u3002\\u201c\\u60a8\\u5df2\\u7ecf\\u6295\\u7968\\u4e86\\u5417\\uff1f\\u6295\\u4e86\\uff1f\\u8c22\\u8c22\\u60a8\\uff01\\u201d \\u7ffb\\u8bd1\\uff1a\\u664b\\u5176\\u89d2 \\u70b9\\u51fb\\u67e5\\u770b\\u300a\\u7ebd\\u7ea6\\u65f6\\u62a5\\u300b\\u5bf9\\u672c\\u6b21\\u603b\\u7edf\\u5927\\u9009\\u7684\\u5b9e\\u65f6\\u62a5\\u9053\\u3002 \\u76f8\\u5173\\u62a5\\u9053 ### \\u7f8e\\u56fd\\u5927\\u9009\\u89c2\\u6218\\u6307\\u5357\\uff1a\\u7ed3\\u679c\\u4f55\\u65f6\\u516c\\u5e03\\uff1f 2024\\u5e7411\\u67086\\u65e5  ### \\u7f8e\\u56fd\\u4eba\\u5728\\u4e0d\\u5b89\\u3001\\u7126\\u8651\\u4e0e\\u6050\\u60e7\\u4e2d\\u8fce\\u63a5\\u5927\\u9009 2024\\u5e7411\\u67085\\u65e5  ### \\u6295\\u7968\\u65e5\\u524d\\u7f8e\\u56fd\\u4e24\\u515a\\u53d1\\u8d77\\u6700\\u540e\\u62c9\\u7968\\u653b\\u52bf 2024\\u5e7411\\u67085\\u65e5  ### \\u6c11\\u8c03\\u663e\\u793a\\u5173\\u952e\\u6447\\u6446\\u5dde\\u9009\\u60c5\\u6781\\u5ea6\\u80f6\\u7740 2024\\u5e7411\\u67084\\u65e5  \\u6700\\u53d7\\u6b22\\u8fce #### \\u623f\\u8d37\\u65ad\\u4f9b\\u3001\\u6b62\\u8d4e\\u6fc0\\u589e\\uff0c\\u4e2d\\u56fd\\u697c\\u5e02\\u5d29\\u76d8\\u5a01\\u80c1\\u91d1\\u878d\\u7cfb\\u7edf  #### \\u7f8e\\u56fd\\u4eba\\u5728\\u4e0d\\u5b89\\u3001\\u7126\\u8651\\u4e0e\\u6050\\u60e7\\u4e2d\\u8fce\\u63a5\\u5927\\u9009  #### \\u4e3a\\u4ec0\\u4e48\\u6c11\\u4e3b\\u515a\\u60f3\\u51fb\\u8d25\\u7279\\u6717\\u666e\\u90a3\\u4e48\\u96be  #### \\u4ece\\u4e4c\\u514b\\u5170\\u5230\\u53f0\\u6d77\\uff0c\\u7f8e\\u56fd\\u5927\\u9009\\u5bf9\\u5168\\u4e16\\u754c\\u6709\\u4f55\\u5f71\\u54cd  #### \\u6447\\u6446\\u5dde\\u9009\\u60c5\\u6709\\u591a\\u80f6\\u7740\\uff1f\\u6c11\\u8c03\\u544a\\u8bc9\\u6211\\u4eec\\u7684\\u5173\\u952e\\u4fe1\\u606f  #### \\u7f8e\\u56fd\\u5de5\\u5382\\u80fd\\u62b5\\u6321\\u65b0\\u4e00\\u8f6e\\u201c\\u4e2d\\u56fd\\u51b2\\u51fb\\u201d\\u5417  #### \\u201c\\u6709\\u751f\\u4ee5\\u6765\\u6700\\u91cd\\u8981\\u7684\\u4e00\\u6b21\\u9009\\u4e3e\\u201d\\uff1a\\u4e24\\u515a\\u4e3a\\u6295\\u7968\\u65e5\\u6700\\u540e\\u51b2\\u523a  #### \\u82e5\\u7279\\u6717\\u666e\\u5f53\\u9009\\uff0c\\u7f8e\\u56fd\\u4f1a\\u201c\\u5b8c\\u86cb\\u201d\\u5417\\uff1f  \\u514d\\u8d39\\u4e0b\\u8f7d \\u7ebd\\u7ea6\\u65f6\\u62a5\\u4e2d\\u6587\\u7f51 iOS \\u548c Android App \\u70b9\\u51fb\\u4e0b\\u8f7diOS App \\u70b9\\u51fb\\u4e0b\\u8f7dAndroid App \\u00a9 2024 The New York Times Company.\"}, {\"url\": \"https://news.sina.com.cn/2024-11-06/doc-incvcvrt3133152.shtml\", \"content\": \"\\u5f53\\u5730\\u65f6\\u95f411\\u67086\\u65e5\\u51cc\\u6668\\uff0c\\u636e\\u591a\\u5bb6\\u7f8e\\u56fd\\u5a92\\u4f53\\u521d\\u6b65\\u6d4b\\u7b97\\u7ed3\\u679c\\uff0c\\u7279\\u6717\\u666e\\u8d62\\u5f97\\\"\\u6447\\u6446\\u5dde\\\"\\u5bbe\\u5915\\u6cd5\\u5c3c\\u4e9a\\u5dde\\u768419\\u5f20\\u9009\\u4e3e\\u4eba\\u7968\\uff0c\\u5e76\\u83b7\\u5f97\\u81f3\\u5c11270\\u5f20\\u9009\\u4e3e\\u4eba\\u7968\\uff0c\\u9884\\u8ba1\\u5c06\\u9501\\u5b9a\"}]\n",
      "Assistant: 根据11月6日的初步投票结果，特朗普在重要州份中表现出色，特别是在“摇摆州”方面。根据多家媒体的初步数据，特朗普在某些关键州如宾夕法尼亚州和密歇根州领先，虽然目前的结果仍在统计中，确保最终结果还需等待。\n",
      "\n",
      "详细信息可以参考纽约时报的报道 [这里](https://cn.nytimes.com/usa/20241106/us-election-live/) 和新浪新闻的报道 [这里](https://news.sina.com.cn/2024-11-06/doc-incvcvrt3133152.shtml)。\n"
     ]
    },
    {
     "name": "stdin",
     "output_type": "stream",
     "text": [
      "User:  quit\n"
     ]
    },
    {
     "name": "stdout",
     "output_type": "stream",
     "text": [
      "Goodbye!\n"
     ]
    }
   ],
   "source": [
    "from langchain_core.messages import BaseMessage\n",
    "\n",
    "# 进入一个无限循环，用于模拟持续的对话\n",
    "while True:\n",
    "    # 获取用户输入\n",
    "    user_input = input(\"User: \")\n",
    "    \n",
    "    # 如果用户输入 \"quit\"、\"exit\" 或 \"q\"，则退出循环，结束对话\n",
    "    if user_input.lower() in [\"quit\", \"exit\", \"q\"]:\n",
    "        print(\"Goodbye!\")  # 打印告别语\n",
    "        break  # 退出循环\n",
    "\n",
    "    # 使用 graph.stream 处理用户输入，并生成机器人的回复\n",
    "    # \"messages\" 列表中包含用户的输入，传递给对话系统\n",
    "    for event in graph.stream({\"messages\": [(\"user\", user_input)]}):\n",
    "        \n",
    "        # 遍历 event 的所有值，检查是否是 BaseMessage 类型的消息\n",
    "        for value in event.values():\n",
    "            if isinstance(value[\"messages\"][-1], BaseMessage):\n",
    "                # 如果消息是 BaseMessage 类型，则打印机器人的回复\n",
    "                print(\"Assistant:\", value[\"messages\"][-1].content)\n"
   ]
  },
  {
   "cell_type": "markdown",
   "id": "1f02dd51-1a42-4b00-bc45-4fb619f55ad0",
   "metadata": {},
   "source": [
    "------------"
   ]
  },
  {
   "cell_type": "markdown",
   "id": "31f64614",
   "metadata": {},
   "source": [
    "\n",
    "## 搜索引擎工具赋能前后对比\n",
    "\n",
    "下面对比使用 搜索引擎工具前后，chatbot 生成结果对比\n",
    "\n",
    "\n",
    "### 用户问题\n",
    "\n",
    "```shell\n",
    "User:  详细介绍下 LangGraph 项目\n",
    "```\n",
    "\n",
    "### ChatBot + Web Search Tool（整合搜索结果后生成正确回答）\n",
    "\n",
    "```\n",
    "关于2024年美国大选的候选人及得票情况的详细信息如下：\r\n",
    "\r\n",
    "1. **主要候选人**：\r\n",
    "   - **现任总统乔·拜登（Joe Biden）**：民主党候选人，曾于2020年当选为美国总统。\r\n",
    "   - **前总统唐纳德·特朗普（Donald Trump）**：共和党候选人，曾于2016年当选为美国总统。\r\n",
    "   - **副总统卡马拉·哈里斯（Kamala Harris）**：与拜登共同竞选连任。\r\n",
    "   - **其他候选人**：可能还有独立候选人和其他小党派候选人，具体人选和支持度可能会随着时间变化而有所调整。\r\n",
    "\r\n",
    "2. **得票情况**：\r\n",
    "   - 根据最新的民调和选票预测，拜登和特朗普的支持率仍然较高。拜登在一些重要州的表现可能会影响选举的最终结果。\r\n",
    "   - 目前，民调显示拜登在一些蓝州（如加利福尼亚州和纽约州）具有强大的支持，而特朗普在红州（如德克萨斯州和佛罗里达州）表现更为强劲。\r\n",
    "   - 选举将通过选举人团制度进行，需获得至少270张选举人票才能胜选。全美共有538张选举人票。\r\n",
    "\r\n",
    "3. **选举日**：\r\n",
    "   - 2024年美国大选定于11月5日举行，届时将进行正式投票。\r\n",
    "\r\n",
    "4. **影响因素**：\r\n",
    "   - 经济状况、社会问题（如枪支管制、移民政策）以及国际局势等都可能对选民的选择产生重要影响。\r\n",
    "\r\n",
    "如果您想了解更详细的信息或背景，可以进一步查询相关资料。\n",
    "```\n",
    "\n",
    "### ChatBot-only\n",
    " 截至2023年10月，美国2024年总统大选的候选人尚未最终确定，但已有一些主要候选人宣布参选。以下是一些可能的候选人和他们的背景：\r\n",
    "\r\n",
    "### 主要候选人\r\n",
    "\r\n",
    "1. **乔·拜登 (Joe Biden)** - 现任总统，民主党候选人：\r\n",
    "   - 拜登在2020年大选中击败了时任总统唐纳德·特朗普，成为美国第46任总统。他在2024年寻求连任。\r\n",
    "\r\n",
    "2. **唐纳德·特朗普 (Donald Trump)** - 前总统，共和党候选人：\r\n",
    "   - 特朗普是2020年大选的败者，但他在共和党内的支持率仍然很高，已宣布参选2024年大选。\r\n",
    "\r\n",
    "3. **罗恩·德桑蒂斯 (Ron DeSantis)** - 佛罗里达州州长，共和党候选人：\r\n",
    "   - 德桑蒂斯在共和党初选中是特朗普的主要竞争者之一，因其在处理疫情和其他政治议题上的立场而受到关注。\r\n",
    "\r\n",
    "4. **尼基·海利 (Nikki Haley)** - 前联合国大使，共和党候选人：\r\n",
    "   - 海利曾担任南卡罗来纳州州长，是共和党内较有影响力的女性候选人之一。\r\n",
    "\r\n",
    "5. **维维克·拉马斯瓦米 (Vivek Ramaswamy)** - 企业家，共和党候选人：\r\n",
    "   - 拉马斯瓦米是一位新兴的政治人物，因其商业背景和激进的政策立场而受到关注。\r\n",
    "\r\n",
    "### 得票情况\r\n",
    "\r\n",
    "由于2024年大选尚未举行，因此目前无法提供具体的得票情况。候选人在初选中的表现和公众支持率将在未来几个月内逐步显现。各候选人之间的竞争将通过初选和党代会逐步明确，并最终决定谁将代表各自的政党参加大选。\r\n",
    "\r\n",
    "### 总结\r\n",
    "\r\n",
    "美国2024年大选的候选人名单正在逐步形成，主要候选人包括现任总统拜登和前总统特朗普等。尽管目前无法提供具体的得票情况，但各候选人的初选表现和民意调查结果将对大选结果产生重要影响。随着选举日的临近，政治局势可能会发生变化，值得持续关注。智能和数据科学产生深远的影响。\n",
    "```"
   ]
  },
  {
   "cell_type": "markdown",
   "id": "c9fbba90-b3d2-4614-99f8-adad9b7e6c0f",
   "metadata": {},
   "source": [
    "------------\n",
    "\n",
    "# Homework: \n",
    "\n",
    "1. 运行和测试第1部分的聊天机器人（ChatBot-Only），并尝试找到一个其无法回答正确的事实性问题。\n",
    "1. 使用联网查询工具（如：Tavily），在第2部分的聊天机器人（ChatBot + Tool）上测试相同问题，并对比生成结果。 "
   ]
  },
  {
   "cell_type": "markdown",
   "id": "40e91d18-e480-41ea-95d2-e4f34f419d14",
   "metadata": {},
   "source": [
    "------\n",
    "\n",
    "##"
   ]
  },
  {
   "cell_type": "markdown",
   "id": "c82108f5",
   "metadata": {},
   "source": [
    "## 第 3 部分：为聊天机器人添加记忆功能\n",
    "\n",
    "目前机器人可以使用工具来回答问题，但它还无法记住之前的对话内容。为了解决这个问题，我们将为机器人添加记忆功能，让它能够维护对话状态并实现多轮对话。\n",
    "\n",
    "-----------"
   ]
  },
  {
   "cell_type": "markdown",
   "id": "e230fe85",
   "metadata": {},
   "source": [
    "`MemorySaver` 是 LangGraph 中的一个检查点机制（checkpointing），用于保存和恢复对话或任务执行的状态。通过 `MemorySaver`，我们可以在每个步骤后保存机器人的状态，并在之后恢复对话，允许机器人具有“记忆”功能，支持多轮对话、错误恢复、时间旅行等功能。\n",
    "\n",
    "### `MemorySaver` 的核心功能\n",
    "\n",
    "1. **状态持久化**：\n",
    "   - `MemorySaver` 以内存的形式保存对话或任务的当前状态。在每次状态图（StateGraph）执行时，`MemorySaver` 会记录执行到某个节点的状态，并将状态保存在内存中。\n",
    "   - 在实际应用中，可以替换成 `SqliteSaver` 或 `PostgresSaver`，将状态保存到数据库中，以便在系统重新启动后仍能恢复之前的对话。\n",
    "   - 参考文档：https://langchain-ai.github.io/langgraph/how-tos/persistence/\n",
    "\n",
    "2. **多轮对话支持**：\n",
    "   - 使用 `MemorySaver`，每次调用状态图时，都会将对话的上下文保存下来。当用户重新发送消息时，机器人可以加载先前的状态，继续进行对话，而不会丢失上下文。\n",
    "   - 例如，用户可以在多轮对话中提到之前的内容，机器人能够记住这些信息并做出相应的反应。\n",
    "\n",
    "3. **错误恢复**：\n",
    "   - 在任务执行过程中，如果发生了错误，`MemorySaver` 可以帮助机器人恢复到之前的状态，从而重试任务或采取其他措施来处理错误。\n",
    "   - 它可以让机器人在任务失败或异常时从上一次成功的状态继续执行，而无需从头开始。\n",
    "\n",
    "4. **时间旅行**：\n",
    "   - `MemorySaver` 还支持时间旅行功能。开发者可以回溯到之前的某个对话状态，从那个时间点继续执行不同的分支，这在调试和交互式应用中非常有用。\n",
    "   - 用户或开发者可以选择从某个保存的状态点重新开始，并探索不同的执行路径。\n",
    "\n",
    "### 使用场景\n",
    "\n",
    "- **对话系统**：当用户和机器人之间进行多轮对话时，机器人需要记住之前的消息和上下文，以便提供连续性的回复。`MemorySaver` 能帮助机器人保存对话的状态，并在下次调用时恢复先前的对话。\n",
    "  \n",
    "- **任务执行系统**：在复杂任务执行流程中，如果发生中断或错误，`MemorySaver` 能帮助系统从最近的检查点恢复，继续完成未完成的任务。\n",
    "\n",
    "- **调试与实验**：开发者可以通过保存多个状态检查点，回溯到不同的状态节点，进行调试或探索不同的对话分支和执行路径。\n",
    "\n",
    "### 代码示例\n",
    "\n",
    "```python\n",
    "from langgraph.checkpoint.memory import MemorySaver\n",
    "\n",
    "# 创建内存检查点\n",
    "memory = MemorySaver()\n",
    "\n",
    "# 在编译图时，将 MemorySaver 作为检查点传递\n",
    "graph = graph_builder.compile(checkpointer=memory)\n",
    "\n",
    "# 执行状态图，保存当前对话的状态\n",
    "config = {\"configurable\": {\"thread_id\": \"1\"}}\n",
    "events = graph.stream({\"messages\": [(\"user\", \"Hi, what's the weather today?\")]}, config)\n",
    "\n",
    "# 在下次调用时，从内存检查点恢复对话状态\n",
    "events = graph.stream({\"messages\": [(\"user\", \"Can you tell me tomorrow's weather too?\")]}, config)\n",
    "```\n",
    "\n",
    "### 总结\n",
    "\n",
    "`MemorySaver` 是 LangGraph 中用于在内存中保存对话状态的机制，支持机器人的多轮对话、状态恢复和时间旅行等功能。它通过检查点机制，使机器人可以在任务或对话的不同阶段保存并恢复状态，从而提高对话系统的连续性和容错能力。\n"
   ]
  },
  {
   "cell_type": "markdown",
   "id": "2918a620",
   "metadata": {},
   "source": [
    "### 1. 创建 MemorySaver 检查点\n",
    "\n"
   ]
  },
  {
   "cell_type": "code",
   "execution_count": 51,
   "id": "f1093d11",
   "metadata": {},
   "outputs": [],
   "source": [
    "from langgraph.checkpoint.memory import MemorySaver\n",
    "\n",
    "# 创建内存检查点\n",
    "memory = MemorySaver()"
   ]
  },
  {
   "cell_type": "markdown",
   "id": "890ecf8c",
   "metadata": {},
   "source": [
    "\n"
   ]
  },
  {
   "cell_type": "markdown",
   "id": "718e277e",
   "metadata": {},
   "source": [
    "### 2. 使用检查点编译图\n",
    "\n"
   ]
  },
  {
   "cell_type": "markdown",
   "id": "b436f151",
   "metadata": {},
   "source": [
    "在编译图时，我们将提供检查点功能，机器人可以在每个步骤中保存状态。\n",
    "\n"
   ]
  },
  {
   "cell_type": "code",
   "execution_count": 53,
   "id": "eaf106fd",
   "metadata": {},
   "outputs": [],
   "source": [
    "graph = graph_builder.compile(checkpointer=memory)"
   ]
  },
  {
   "cell_type": "code",
   "execution_count": 55,
   "id": "da903750-f00b-4208-8bb4-460a768843c9",
   "metadata": {},
   "outputs": [
    {
     "data": {
      "image/jpeg": "[encoded data removed]",
      "text/plain": [
       "<IPython.core.display.Image object>"
      ]
     },
     "metadata": {},
     "output_type": "display_data"
    }
   ],
   "source": [
    "display(Image(graph.get_graph().draw_mermaid_png()))"
   ]
  },
  {
   "cell_type": "markdown",
   "id": "8b0b3e5a",
   "metadata": {},
   "source": [
    "\n"
   ]
  },
  {
   "cell_type": "markdown",
   "id": "a04a076a",
   "metadata": {},
   "source": [
    "### 3. 执行聊天机器人\n",
    "\n",
    "我们仍然按照之前的方式执行机器人，只是这次它会在每一步保存对话状态。"
   ]
  },
  {
   "cell_type": "markdown",
   "id": "8fb3dfde",
   "metadata": {},
   "source": [
    "\n",
    "#### 代码解析\n",
    "\n",
    "1. **config 配置**：\n",
    "   - `config` 是一个包含对话线程信息的字典，用于指定本次对话的唯一线程 ID。在这个例子中，`thread_id` 被设置为 `\"1\"`，这意味着该对话会与该线程关联。\n",
    "   - 每个线程 ID 代表一个独立的对话流，使用 `MemorySaver` 时，机器人可以在同一个 `thread_id` 下记住对话的上下文。\n",
    "\n",
    "2. **用户输入消息**：\n",
    "   - `user_input` 表示用户的输入消息，在这里用户输入了 `\"Hi there! My name is Peng.\"`。这个消息将作为对话的起始消息传递给机器人。\n",
    "\n",
    "3. **graph.stream**：\n",
    "   - `graph.stream` 是用于执行状态图的函数。它会根据传入的消息和配置执行对话流程。\n",
    "   - `{\"messages\": [(\"user\", user_input)]}`：第一个参数包含用户的输入消息。消息格式是一个元组，`(\"user\", user_input)` 表示这是来自用户的消息。\n",
    "   - `config`：第二个参数指定对话的线程配置，这里使用 `{\"configurable\": {\"thread_id\": \"1\"}}`，表示这次对话属于线程 ID 为 `1` 的对话流。\n",
    "   - `stream_mode=\"values\"`：设置流模式为 `\"values\"`，表示返回消息中的内容数据。\n",
    "\n",
    "4. **遍历事件并打印消息**：\n",
    "   - `for event in events` 遍历每个从 `graph.stream` 中返回的事件，`event[\"messages\"][-1]` 获取每个事件中的最后一条消息。\n",
    "   - `pretty_print()`：调用消息对象的 `pretty_print()` 方法来格式化并打印消息的内容。这通常用于输出对话中的 AI 响应或工具调用结果。\n"
   ]
  },
  {
   "cell_type": "code",
   "execution_count": 57,
   "id": "6a3d3d84",
   "metadata": {},
   "outputs": [
    {
     "name": "stdout",
     "output_type": "stream",
     "text": [
      "================================\u001b[1m Human Message \u001b[0m=================================\n",
      "\n",
      "Hi there! My name is Peng.\n",
      "==================================\u001b[1m Ai Message \u001b[0m==================================\n",
      "\n",
      "Hello Peng! How can I assist you today?\n"
     ]
    }
   ],
   "source": [
    "config = {\"configurable\": {\"thread_id\": \"1\"}}\n",
    "\n",
    "# 用户输入的消息\n",
    "user_input = \"Hi there! My name is Peng.\"\n",
    "\n",
    "# 第二个参数 config 用于设置对话线程 ID\n",
    "# 在这里，\"thread_id\" 是唯一标识符，用于保存和区分对话线程。\n",
    "# 每个对话线程的状态将由 MemorySaver 保存下来，因此可以跨多轮对话继续进行。\n",
    "events = graph.stream(\n",
    "    {\"messages\": [(\"user\", user_input)]},  # 第一个参数传入用户的输入消息，消息格式为 (\"user\", \"输入内容\")\n",
    "    config,  # 第二个参数用于指定线程配置，包含线程 ID\n",
    "    stream_mode=\"values\"  # stream_mode 设置为 \"values\"，表示返回流式数据的值\n",
    ")\n",
    "\n",
    "# 遍历每个事件，并打印最后一条消息的内容\n",
    "for event in events:\n",
    "    # 通过 pretty_print 打印最后一条消息的内容\n",
    "    event[\"messages\"][-1].pretty_print()"
   ]
  },
  {
   "cell_type": "markdown",
   "id": "4b24b166",
   "metadata": {},
   "source": [
    "\n"
   ]
  },
  {
   "cell_type": "markdown",
   "id": "c2a5dee8",
   "metadata": {},
   "source": [
    "在下次执行时，机器人将记住之前的对话内容：\n",
    "\n"
   ]
  },
  {
   "cell_type": "code",
   "execution_count": 59,
   "id": "95c7f93d",
   "metadata": {},
   "outputs": [
    {
     "name": "stdout",
     "output_type": "stream",
     "text": [
      "================================\u001b[1m Human Message \u001b[0m=================================\n",
      "\n",
      "Remember my name?\n",
      "==================================\u001b[1m Ai Message \u001b[0m==================================\n",
      "\n",
      "Yes, I remember your name, Peng! How can I help you today?\n"
     ]
    }
   ],
   "source": [
    "user_input = \"Remember my name?\"\n",
    "\n",
    "events = graph.stream(\n",
    "    {\"messages\": [(\"user\", user_input)]},\n",
    "    config,\n",
    "    stream_mode=\"values\"\n",
    ")\n",
    "\n",
    "for event in events:\n",
    "    event[\"messages\"][-1].pretty_print()"
   ]
  },
  {
   "cell_type": "markdown",
   "id": "06a52aae",
   "metadata": {},
   "source": [
    "\n"
   ]
  },
  {
   "cell_type": "markdown",
   "id": "a53f7e73",
   "metadata": {},
   "source": [
    "通过这两步操作，您已经成功为机器人添加了对话记忆功能，它可以记住之前的交互，并在后续的对话中做出相应的回应。\n",
    "\n"
   ]
  },
  {
   "cell_type": "code",
   "execution_count": 61,
   "id": "8b8df867",
   "metadata": {},
   "outputs": [
    {
     "name": "stdout",
     "output_type": "stream",
     "text": [
      "================================\u001b[1m Human Message \u001b[0m=================================\n",
      "\n",
      "Remember my name?\n",
      "==================================\u001b[1m Ai Message \u001b[0m==================================\n",
      "\n",
      "I don't have the ability to remember personal information or past interactions. However, I'm here to help you with any questions or topics you'd like to discuss!\n"
     ]
    }
   ],
   "source": [
    "# 机器人仅记住同一个线程中的历史对话，尝试切换到线程2\n",
    "events = graph.stream(\n",
    "    {\"messages\": [(\"user\", user_input)]},\n",
    "    {\"configurable\": {\"thread_id\": \"2\"}},\n",
    "    stream_mode=\"values\",\n",
    ")\n",
    "for event in events:\n",
    "    event[\"messages\"][-1].pretty_print()"
   ]
  },
  {
   "cell_type": "markdown",
   "id": "ae90b143",
   "metadata": {},
   "source": [
    "\n"
   ]
  },
  {
   "cell_type": "markdown",
   "id": "f023df43",
   "metadata": {},
   "source": [
    "检查点让机器人可以记住对话状态，您可以通过 `get_state` 函数查看机器人当前的状态：\n",
    "\n"
   ]
  },
  {
   "cell_type": "code",
   "execution_count": 63,
   "id": "bb8b2464",
   "metadata": {},
   "outputs": [
    {
     "data": {
      "text/plain": [
       "StateSnapshot(values={'messages': [HumanMessage(content='Hi there! My name is Peng.', id='054d2fff-f124-4353-9c47-0c91acabce70'), AIMessage(content='Hello Peng! How can I assist you today?', response_metadata={'token_usage': {'completion_tokens': 11, 'prompt_tokens': 87, 'total_tokens': 98, 'completion_tokens_details': {'reasoning_tokens': 0, 'audio_tokens': 0, 'accepted_prediction_tokens': 0, 'rejected_prediction_tokens': 0}, 'prompt_tokens_details': {'cached_tokens': 0, 'audio_tokens': 0}}, 'model_name': 'gpt-4o-mini', 'system_fingerprint': 'fp_0ba0d124f1', 'finish_reason': 'stop', 'logprobs': None}, id='run-e28016f4-4233-4c4b-ba8a-7617224955ac-0'), HumanMessage(content='Remember my name?', id='db900d78-0f0b-4249-b64a-24e7e794d64c'), AIMessage(content='Yes, I remember your name, Peng! How can I help you today?', response_metadata={'token_usage': {'completion_tokens': 17, 'prompt_tokens': 109, 'total_tokens': 126, 'completion_tokens_details': {'reasoning_tokens': 0, 'audio_tokens': 0, 'accepted_prediction_tokens': 0, 'rejected_prediction_tokens': 0}, 'prompt_tokens_details': {'cached_tokens': 0, 'audio_tokens': 0}}, 'model_name': 'gpt-4o-mini', 'system_fingerprint': 'fp_0ba0d124f1', 'finish_reason': 'stop', 'logprobs': None}, id='run-a55059d7-215e-425b-9fe7-18ddb9b622d9-0')]}, next=(), config={'configurable': {'thread_id': '1', 'checkpoint_ns': '', 'checkpoint_id': '1ef9caf1-ebd6-6f22-8004-00a4c2a020b2'}}, metadata={'source': 'loop', 'writes': {'chatbot': {'messages': [AIMessage(content='Yes, I remember your name, Peng! How can I help you today?', response_metadata={'token_usage': {'completion_tokens': 17, 'prompt_tokens': 109, 'total_tokens': 126, 'completion_tokens_details': {'reasoning_tokens': 0, 'audio_tokens': 0, 'accepted_prediction_tokens': 0, 'rejected_prediction_tokens': 0}, 'prompt_tokens_details': {'cached_tokens': 0, 'audio_tokens': 0}}, 'model_name': 'gpt-4o-mini', 'system_fingerprint': 'fp_0ba0d124f1', 'finish_reason': 'stop', 'logprobs': None}, id='run-a55059d7-215e-425b-9fe7-18ddb9b622d9-0')]}}, 'step': 4, 'parents': {}}, created_at='2024-11-07T02:22:22.071581+00:00', parent_config={'configurable': {'thread_id': '1', 'checkpoint_ns': '', 'checkpoint_id': '1ef9caf1-e4d3-6e8c-8003-9f8a2bb615f4'}}, tasks=())"
      ]
     },
     "execution_count": 63,
     "metadata": {},
     "output_type": "execute_result"
    }
   ],
   "source": [
    "snapshot = graph.get_state(config)\n",
    "snapshot"
   ]
  },
  {
   "cell_type": "markdown",
   "id": "9b33358b-945d-419e-acaa-11cb5eaccdd9",
   "metadata": {},
   "source": [
    "### 使用 Pandas 表格呈现状态\n",
    "\n",
    "对于其中的 messages 等结构化数据，可以将其转换为 Pandas DataFrame 进行展示。"
   ]
  },
  {
   "cell_type": "code",
   "execution_count": 65,
   "id": "6e7e6291-acef-44f5-97f6-fd542d16cc86",
   "metadata": {},
   "outputs": [
    {
     "data": {
      "text/html": [
       "<div>\n",
       "<style scoped>\n",
       "    .dataframe tbody tr th:only-of-type {\n",
       "        vertical-align: middle;\n",
       "    }\n",
       "\n",
       "    .dataframe tbody tr th {\n",
       "        vertical-align: top;\n",
       "    }\n",
       "\n",
       "    .dataframe thead th {\n",
       "        text-align: right;\n",
       "    }\n",
       "</style>\n",
       "<table border=\"1\" class=\"dataframe\">\n",
       "  <thead>\n",
       "    <tr style=\"text-align: right;\">\n",
       "      <th></th>\n",
       "      <th>content</th>\n",
       "      <th>message_id</th>\n",
       "      <th>type</th>\n",
       "      <th>token_usage</th>\n",
       "    </tr>\n",
       "  </thead>\n",
       "  <tbody>\n",
       "    <tr>\n",
       "      <th>0</th>\n",
       "      <td>Hi there! My name is Peng.</td>\n",
       "      <td>054d2fff-f124-4353-9c47-0c91acabce70</td>\n",
       "      <td>HumanMessage</td>\n",
       "      <td>None</td>\n",
       "    </tr>\n",
       "    <tr>\n",
       "      <th>1</th>\n",
       "      <td>Hello Peng! How can I assist you today?</td>\n",
       "      <td>run-e28016f4-4233-4c4b-ba8a-7617224955ac-0</td>\n",
       "      <td>AIMessage</td>\n",
       "      <td>{'completion_tokens': 11, 'prompt_tokens': 87,...</td>\n",
       "    </tr>\n",
       "    <tr>\n",
       "      <th>2</th>\n",
       "      <td>Remember my name?</td>\n",
       "      <td>db900d78-0f0b-4249-b64a-24e7e794d64c</td>\n",
       "      <td>HumanMessage</td>\n",
       "      <td>None</td>\n",
       "    </tr>\n",
       "    <tr>\n",
       "      <th>3</th>\n",
       "      <td>Yes, I remember your name, Peng! How can I hel...</td>\n",
       "      <td>run-a55059d7-215e-425b-9fe7-18ddb9b622d9-0</td>\n",
       "      <td>AIMessage</td>\n",
       "      <td>{'completion_tokens': 17, 'prompt_tokens': 109...</td>\n",
       "    </tr>\n",
       "  </tbody>\n",
       "</table>\n",
       "</div>"
      ],
      "text/plain": [
       "                                             content  \\\n",
       "0                         Hi there! My name is Peng.   \n",
       "1            Hello Peng! How can I assist you today?   \n",
       "2                                  Remember my name?   \n",
       "3  Yes, I remember your name, Peng! How can I hel...   \n",
       "\n",
       "                                   message_id          type  \\\n",
       "0        054d2fff-f124-4353-9c47-0c91acabce70  HumanMessage   \n",
       "1  run-e28016f4-4233-4c4b-ba8a-7617224955ac-0     AIMessage   \n",
       "2        db900d78-0f0b-4249-b64a-24e7e794d64c  HumanMessage   \n",
       "3  run-a55059d7-215e-425b-9fe7-18ddb9b622d9-0     AIMessage   \n",
       "\n",
       "                                         token_usage  \n",
       "0                                               None  \n",
       "1  {'completion_tokens': 11, 'prompt_tokens': 87,...  \n",
       "2                                               None  \n",
       "3  {'completion_tokens': 17, 'prompt_tokens': 109...  "
      ]
     },
     "execution_count": 65,
     "metadata": {},
     "output_type": "execute_result"
    }
   ],
   "source": [
    "import pandas as pd\n",
    "\n",
    "# 将消息内容转换为 DataFrame 显示\n",
    "messages = snapshot.values['messages']\n",
    "df = pd.DataFrame([{\n",
    "    'content': msg.content,\n",
    "    'message_id': msg.id,\n",
    "    'type': type(msg).__name__,\n",
    "    'token_usage': msg.response_metadata.get('token_usage') if hasattr(msg, 'response_metadata') else None\n",
    "} for msg in messages])\n",
    "\n",
    "df  # Jupyter 会自动渲染 DataFrame"
   ]
  },
  {
   "cell_type": "markdown",
   "id": "a2128bcb",
   "metadata": {},
   "source": [
    "\n"
   ]
  },
  {
   "cell_type": "markdown",
   "id": "16c557f8",
   "metadata": {},
   "source": [
    "---\n",
    "\n"
   ]
  },
  {
   "cell_type": "markdown",
   "id": "15417aa1",
   "metadata": {},
   "source": [
    "## 第 4 部分：引入人类审查\n",
    "\n"
   ]
  },
  {
   "cell_type": "markdown",
   "id": "55389548",
   "metadata": {},
   "source": [
    "有时机器人可能需要人类的介入来做出复杂决策，或者某些任务需要人类批准。LangGraph 支持这种“人类参与”的工作流，您可以在对话中加入人类审查。\n",
    "\n",
    "第4部分，主要展示了如何通过 LangGraph 进行多轮对话和工具调用，并且能够手动更新对话状态、插入工具调用的结果，之后继续执行对话。"
   ]
  },
  {
   "cell_type": "markdown",
   "id": "21516923",
   "metadata": {},
   "source": [
    "### 1. 编译图时添加中断\n",
    "\n"
   ]
  },
  {
   "cell_type": "markdown",
   "id": "22974e2c",
   "metadata": {},
   "source": [
    "我们可以通过 `interrupt_before` 参数，在工具节点执行之前中断对话，让人类有机会审查。\n",
    "\n",
    "\n",
    "**编译状态图**：\n",
    "   - `graph_builder.compile()` 用于编译状态图，生成可执行的 `CompiledGraph` 对象。\n",
    "   - `checkpointer=memory` 使用内存作为检查点保存对话状态。\n",
    "   - `interrupt_before=[\"tools\"]` 表示在执行 \"tools\" 节点之前中断，允许手动干预。"
   ]
  },
  {
   "cell_type": "code",
   "execution_count": 67,
   "id": "6a9dc7e7",
   "metadata": {},
   "outputs": [],
   "source": [
    "# 编译状态图，指定在工具节点之前进行中断\n",
    "graph = graph_builder.compile(\n",
    "    checkpointer=memory,  # 使用 MemorySaver 作为检查点系统\n",
    "    interrupt_before=[\"tools\"],  # 在进入 \"tools\" 节点前进行中断\n",
    ")"
   ]
  },
  {
   "cell_type": "code",
   "execution_count": 69,
   "id": "68c4a8ca-67cc-44a5-8ee3-3bb4167ae07b",
   "metadata": {},
   "outputs": [
    {
     "data": {
      "image/jpeg": "[encoded data removed]",
      "text/plain": [
       "<IPython.core.display.Image object>"
      ]
     },
     "metadata": {},
     "output_type": "display_data"
    }
   ],
   "source": [
    "display(Image(graph.get_graph().draw_mermaid_png()))"
   ]
  },
  {
   "cell_type": "markdown",
   "id": "c7a29fe2",
   "metadata": {},
   "source": [
    "\n"
   ]
  },
  {
   "cell_type": "markdown",
   "id": "cc93cf40",
   "metadata": {},
   "source": [
    "### 2. 执行对话并在工具调用前中断\n",
    "\n"
   ]
  },
  {
   "cell_type": "markdown",
   "id": "12c06a58",
   "metadata": {},
   "source": [
    "我们现在来执行对话，并在工具节点之前进行中断，以便人类介入。\n",
    "\n"
   ]
  },
  {
   "cell_type": "code",
   "execution_count": 71,
   "id": "e9bc5112",
   "metadata": {},
   "outputs": [
    {
     "name": "stdout",
     "output_type": "stream",
     "text": [
      "================================\u001b[1m Human Message \u001b[0m=================================\n",
      "\n",
      "我正在学习LangGraph。你能帮我做一些研究吗？\n",
      "==================================\u001b[1m Ai Message \u001b[0m==================================\n",
      "Tool Calls:\n",
      "  tavily_search_results_json (call_d5y2aS741HixmZOn4bX72Zk9)\n",
      " Call ID: call_d5y2aS741HixmZOn4bX72Zk9\n",
      "  Args:\n",
      "    query: LangGraph 2023\n"
     ]
    }
   ],
   "source": [
    "# 用户输入的消息\n",
    "user_input = \"我正在学习LangGraph。你能帮我做一些研究吗？\"\n",
    "# 配置新的对话线程 ID，用于保存和恢复对话状态\n",
    "config = {\"configurable\": {\"thread_id\": \"3\"}}\n",
    "\n",
    "# 使用 stream 方法处理用户输入并返回事件\n",
    "events = graph.stream(\n",
    "    {\"messages\": [(\"user\", user_input)]},\n",
    "    config,\n",
    "    stream_mode=\"values\"\n",
    ")\n",
    "\n",
    "# 遍历每个事件并输出最后一条消息的内容\n",
    "for event in events:\n",
    "    if \"messages\" in event:\n",
    "        event[\"messages\"][-1].pretty_print()  # 打印消息内容"
   ]
  },
  {
   "cell_type": "markdown",
   "id": "10ea1621",
   "metadata": {},
   "source": [
    "\n"
   ]
  },
  {
   "cell_type": "markdown",
   "id": "f6a7db0f",
   "metadata": {},
   "source": [
    "检查图的状态，确认已经中断。\n",
    "\n",
    "**获取状态快照**：\n",
    "   - 使用 `graph.get_state(config)` 获取当前对话的状态快照。\n",
    "   - `snapshot.next` 显示下一个将要执行的节点（在中断时为 \"tools\" 节点）。"
   ]
  },
  {
   "cell_type": "code",
   "execution_count": 73,
   "id": "3894534a",
   "metadata": {},
   "outputs": [
    {
     "data": {
      "text/plain": [
       "('tools',)"
      ]
     },
     "execution_count": 73,
     "metadata": {},
     "output_type": "execute_result"
    }
   ],
   "source": [
    "# 获取当前对话的状态快照\n",
    "snapshot = graph.get_state(config)\n",
    "# 查看快照中下一个要执行的节点\n",
    "snapshot.next"
   ]
  },
  {
   "cell_type": "markdown",
   "id": "448e17fc-9ebb-407c-8d8b-40c4dbb7f654",
   "metadata": {},
   "source": [
    "请注意，与上次不同，“下一个”节点被设置为'tools'。我们在这里中断了！让我们检查一下工具调用。"
   ]
  },
  {
   "cell_type": "code",
   "execution_count": 75,
   "id": "a568e527-28b7-412f-8a48-d22e4ad55d90",
   "metadata": {},
   "outputs": [
    {
     "data": {
      "text/plain": [
       "[{'name': 'tavily_search_results_json',\n",
       "  'args': {'query': 'LangGraph 2023'},\n",
       "  'id': 'call_d5y2aS741HixmZOn4bX72Zk9',\n",
       "  'type': 'tool_call'}]"
      ]
     },
     "execution_count": 75,
     "metadata": {},
     "output_type": "execute_result"
    }
   ],
   "source": [
    "existing_message = snapshot.values[\"messages\"][-1]\n",
    "existing_message.tool_calls"
   ]
  },
  {
   "cell_type": "markdown",
   "id": "95436842-b3fa-4e0e-80f9-eed3aaa8f709",
   "metadata": {},
   "source": [
    "这个查询看起来很合理。这里没有需要过滤的内容。人类能做的最简单的事情就是让图形继续执行。我们在下面这样做。\n",
    "\n",
    "**接下来，继续执行图！**\n",
    "\n",
    "传入 `None` 便是让图从它停止的地方继续，而不会向状态中添加任何新内容。"
   ]
  },
  {
   "cell_type": "code",
   "execution_count": 77,
   "id": "fd1c0708-cbf9-4040-8365-f2c162468689",
   "metadata": {},
   "outputs": [
    {
     "name": "stdout",
     "output_type": "stream",
     "text": [
      "==================================\u001b[1m Ai Message \u001b[0m==================================\n",
      "Tool Calls:\n",
      "  tavily_search_results_json (call_d5y2aS741HixmZOn4bX72Zk9)\n",
      " Call ID: call_d5y2aS741HixmZOn4bX72Zk9\n",
      "  Args:\n",
      "    query: LangGraph 2023\n",
      "=================================\u001b[1m Tool Message \u001b[0m=================================\n",
      "Name: tavily_search_results_json\n",
      "\n",
      "[{\"url\": \"https://blog.langchain.dev/langgraph-studio-the-first-agent-ide/\", \"content\": \"In January 2023, we launched LangGraph, a highly controllable, low-level orchestration framework for building agentic applications. Since then, we've seen teams build more complex agentic applications for production; in turn, we've heavily invested in LangGraph, leading to a stable 0.1 release this past June.\"}, {\"url\": \"https://langchain-ai.github.io/langgraph/\", \"content\": \"Overview. LangGraph is a library for building stateful, multi-actor applications with LLMs, used to create agent and multi-agent workflows. Compared to other LLM frameworks, it offers these core benefits: cycles, controllability, and persistence. LangGraph allows you to define flows that involve cycles, essential for most agentic architectures\"}]\n",
      "==================================\u001b[1m Ai Message \u001b[0m==================================\n",
      "\n",
      "LangGraph 是一个用于构建状态ful、多参与者应用程序的库，特别适合创建代理和多代理工作流。以下是一些关于 LangGraph 的关键点：\n",
      "\n",
      "1. **推出背景**: LangGraph 于 2023 年 1 月推出，是一个高度可控的低级编排框架，旨在构建具有代理能力的应用程序。自发布以来，团队已经构建了更复杂的代理应用程序，并在 6 月实现了稳定的 0.1 版本。\n",
      "\n",
      "2. **核心优势**: 相较于其他大型语言模型（LLM）框架，LangGraph 提供了以下核心优势：\n",
      "   - **循环**: 允许定义涉及循环的流程，这对于大多数代理架构是必不可少的。\n",
      "   - **可控性**: 具备高度的可控性，可以精确管理代理的行为。\n",
      "   - **持久性**: 支持状态的保留，使得应用可以在不同的会话中保持上下文。\n",
      "\n",
      "3. **使用场景**: LangGraph 特别适用于需要复杂交互和状态管理的应用程序，例如多代理系统和需要持续上下文的对话代理。\n",
      "\n",
      "如果你想深入了解 LangGraph，可以访问以下链接：\n",
      "- [LangGraph Studio: The First Agent IDE](https://blog.langchain.dev/langgraph-studio-the-first-agent-ide/)\n",
      "- [LangGraph Documentation](https://langchain-ai.github.io/langgraph/) \n",
      "\n",
      "这些资源将帮助你更好地理解 LangGraph 的功能和应用。\n"
     ]
    }
   ],
   "source": [
    "events = graph.stream(None, config, stream_mode=\"values\")\n",
    "for event in events:\n",
    "    if \"messages\" in event:\n",
    "        event[\"messages\"][-1].pretty_print()"
   ]
  },
  {
   "cell_type": "code",
   "execution_count": null,
   "id": "6db4ea6f-15cf-44b8-a47f-3c69a7943ec2",
   "metadata": {},
   "outputs": [],
   "source": []
  },
  {
   "cell_type": "markdown",
   "id": "347b87fc",
   "metadata": {},
   "source": [
    "### 3. 人工介入，修改工具执行结果"
   ]
  },
  {
   "cell_type": "markdown",
   "id": "7365a2b7",
   "metadata": {},
   "source": [
    "我们直接使用人工定义的内容，作为工具的返回结果。\n",
    "\n",
    "**手动插入工具调用结果**：\n",
    "   - 创建一个 `ToolMessage` 消息对象，内容是手动提供的工具调用结果，如 `\"LangGraph 是一个用于构建状态化、多参与者应用的库\"`。\n",
    "   - `tool_call_id` 使用之前的工具调用 ID 来关联这个工具调用消息。\n",
    "\n",
    "**更新状态**：\n",
    "   - 通过 `graph.update_state(config, {\"messages\": [tool_message]})` 手动更新对话状态，插入新的工具调用结果。\n",
    "\n",
    "**继续执行对话**：\n",
    "   - 使用 `graph.stream(None, config)` 继续执行对话，处理工具调用后的节点。\n",
    "   - 打印后续生成的消息，显示机器人对工具调用结果的响应。\n",
    "\n",
    "**工具调用最终输出是人工手动输入的内容**"
   ]
  },
  {
   "cell_type": "code",
   "execution_count": 79,
   "id": "c95a79df",
   "metadata": {},
   "outputs": [
    {
     "name": "stdout",
     "output_type": "stream",
     "text": [
      "=================================\u001b[1m Tool Message \u001b[0m=================================\n",
      "\n",
      "LangGraph 是一个用于构建状态化、多参与者应用的库。\n"
     ]
    }
   ],
   "source": [
    "# 手动生成一个工具调用的消息，并更新到对话状态中\n",
    "tool_message = ToolMessage(\n",
    "    content=\"LangGraph 是一个用于构建状态化、多参与者应用的库。\",  # 工具调用返回的内容\n",
    "    tool_call_id=snapshot.values[\"messages\"][-1].tool_calls[0][\"id\"]  # 关联工具调用的 ID\n",
    ")\n",
    "\n",
    "# 更新对话状态，加入工具调用的结果\n",
    "graph.update_state(config, {\"messages\": [tool_message]})\n",
    "\n",
    "# 继续执行对话，查看工具调用后的后续处理\n",
    "events = graph.stream(None, config, stream_mode=\"values\")\n",
    "\n",
    "for event in events:\n",
    "    event[\"messages\"][-1].pretty_print()  # 打印后续生成的消息内容"
   ]
  },
  {
   "cell_type": "markdown",
   "id": "5bbdf42b",
   "metadata": {},
   "source": [
    "---------\n",
    "\n",
    "## 第5部分： 查看 ChatBot 历史对话\n",
    "\n",
    "在 LangGraph 中，可以使用 `graph.get_state_history()` 来获取对话的所有历史状态。\n",
    "\n",
    "传入参数：`{\"configurable\": {\"thread_id\": \"1\"}}`，可以获取指定线程的对话状态。\n",
    "\n",
    "```python\n",
    "# 获取指定线程 ID 的所有历史状态\n",
    "history = graph.get_state_history({\"configurable\": {\"thread_id\": \"1\"}})\n",
    "\n",
    "# 遍历历史记录，打印每个状态中的所有消息\n",
    "for state in history:\n",
    "    print(\"=== 对话历史 ===\")\n",
    "    # 遍历每个状态中的消息记录\n",
    "    for message in state.values[\"messages\"]:\n",
    "        if isinstance(message, BaseMessage):\n",
    "            # 根据消息类型区分用户与机器人\n",
    "            if \"user\" in message.content.lower():\n",
    "                print(f\"User: {message.content}\")\n",
    "            else:\n",
    "                print(f\"Assistant: {message.content}\")\n",
    "```\n",
    "\n",
    "\n",
    "### **为什么不用 events 获取历史？**\n",
    "\n",
    "如果您使用 events，每次调用 graph.stream() 时，您只能获取当前的对话步骤，而不是之前的对话记录。要保留对话历史，您需要在每次获取 events 时将结果手动保存，这样会增加复杂度。\n",
    "\n",
    "\n",
    "### 对话历史去重\n",
    "\n",
    "直接运行上面的代码，可能会出现重复的对话历史。\n",
    "\n",
    "- **问题来源**：重复的状态快照和无消息的中间状态导致了多次重复的对话历史和空对话历史。\n",
    "\n",
    "为了处理这些问题，我们可以引入更严格的过滤条件，并确保只打印那些包含**新消息**或有效消息的状态。\n",
    "\n",
    "- **解决方案**：通过检查消息类型和 ID 来过滤无效和重复的消息，并只输出真正包含对话内容的状态快照。\n",
    "\n",
    "### 代码解析\n",
    "\n",
    "1. **`valid_messages` 列表**：这段代码检查每条消息是否是 `BaseMessage` 类型，同时确保该消息之前没有被处理过。如果消息符合这些条件，则被视为有效消息。\n",
    "\n",
    "2. **输出条件**：只有当存在有效消息时，才打印 `=== 对话历史 ===`，否则打印 `=== 空对话历史（无有效消息） ===`。\n",
    "\n",
    "3. **避免重复输出**：通过 `seen_message_ids` 集合来存储已经处理过的消息 ID，确保每条消息只被打印一次，防止重复输出。"
   ]
  },
  {
   "cell_type": "code",
   "execution_count": 81,
   "id": "f8e2fe74-4dd8-4cd8-9b30-2a34efaf53da",
   "metadata": {},
   "outputs": [
    {
     "name": "stdout",
     "output_type": "stream",
     "text": [
      "=== 对话历史 ===\n",
      "Assistant: 我正在学习LangGraph。你能帮我做一些研究吗？\n",
      "Assistant: \n",
      "Assistant: [{\"url\": \"https://blog.langchain.dev/langgraph-studio-the-first-agent-ide/\", \"content\": \"In January 2023, we launched LangGraph, a highly controllable, low-level orchestration framework for building agentic applications. Since then, we've seen teams build more complex agentic applications for production; in turn, we've heavily invested in LangGraph, leading to a stable 0.1 release this past June.\"}, {\"url\": \"https://langchain-ai.github.io/langgraph/\", \"content\": \"Overview. LangGraph is a library for building stateful, multi-actor applications with LLMs, used to create agent and multi-agent workflows. Compared to other LLM frameworks, it offers these core benefits: cycles, controllability, and persistence. LangGraph allows you to define flows that involve cycles, essential for most agentic architectures\"}]\n",
      "Assistant: LangGraph 是一个用于构建状态ful、多参与者应用程序的库，特别适合创建代理和多代理工作流。以下是一些关于 LangGraph 的关键点：\n",
      "\n",
      "1. **推出背景**: LangGraph 于 2023 年 1 月推出，是一个高度可控的低级编排框架，旨在构建具有代理能力的应用程序。自发布以来，团队已经构建了更复杂的代理应用程序，并在 6 月实现了稳定的 0.1 版本。\n",
      "\n",
      "2. **核心优势**: 相较于其他大型语言模型（LLM）框架，LangGraph 提供了以下核心优势：\n",
      "   - **循环**: 允许定义涉及循环的流程，这对于大多数代理架构是必不可少的。\n",
      "   - **可控性**: 具备高度的可控性，可以精确管理代理的行为。\n",
      "   - **持久性**: 支持状态的保留，使得应用可以在不同的会话中保持上下文。\n",
      "\n",
      "3. **使用场景**: LangGraph 特别适用于需要复杂交互和状态管理的应用程序，例如多代理系统和需要持续上下文的对话代理。\n",
      "\n",
      "如果你想深入了解 LangGraph，可以访问以下链接：\n",
      "- [LangGraph Studio: The First Agent IDE](https://blog.langchain.dev/langgraph-studio-the-first-agent-ide/)\n",
      "- [LangGraph Documentation](https://langchain-ai.github.io/langgraph/) \n",
      "\n",
      "这些资源将帮助你更好地理解 LangGraph 的功能和应用。\n",
      "Assistant: LangGraph 是一个用于构建状态化、多参与者应用的库。\n",
      "=== 空对话历史（无有效消息） ===\n",
      "=== 空对话历史（无有效消息） ===\n",
      "=== 空对话历史（无有效消息） ===\n",
      "=== 空对话历史（无有效消息） ===\n",
      "=== 空对话历史（无有效消息） ===\n"
     ]
    }
   ],
   "source": [
    "# 获取指定线程 ID 的所有历史状态\n",
    "history = graph.get_state_history({\"configurable\": {\"thread_id\": \"3\"}})\n",
    "\n",
    "# 使用集合存储已处理过的消息 ID\n",
    "seen_message_ids = set()\n",
    "\n",
    "# 遍历历史记录，打印每个状态中的所有消息\n",
    "for state in history:\n",
    "    # 获取状态中的消息列表\n",
    "    messages = state.values.get(\"messages\", [])\n",
    "    \n",
    "    # 检查是否存在至少一条未处理的 BaseMessage 类型的消息\n",
    "    valid_messages = [msg for msg in messages if isinstance(msg, BaseMessage) and msg.id not in seen_message_ids]\n",
    "    \n",
    "    if valid_messages:\n",
    "        print(\"=== 对话历史 ===\")\n",
    "        for message in valid_messages:\n",
    "            seen_message_ids.add(message.id)  # 记录消息 ID，避免重复处理\n",
    "            if \"user\" in message.content.lower():\n",
    "                print(f\"User: {message.content}\")\n",
    "            else:\n",
    "                print(f\"Assistant: {message.content}\")\n",
    "    else:\n",
    "        print(\"=== 空对话历史（无有效消息） ===\")"
   ]
  },
  {
   "cell_type": "code",
   "execution_count": null,
   "id": "43681f46-8d20-4002-92c3-f121cd52a8a8",
   "metadata": {},
   "outputs": [],
   "source": []
  },
  {
   "cell_type": "code",
   "execution_count": null,
   "id": "5778ec5f-13e3-40f9-b17b-769e87e8980e",
   "metadata": {},
   "outputs": [],
   "source": []
  },
  {
   "attachments": {},
   "cell_type": "markdown",
   "id": "82f58d4f-87a7-4d5d-b962-553b66407812",
   "metadata": {},
   "source": [
    "# Homework: \n",
    "\n",
    "1. 运行和测试第1部分的聊天机器人（ChatBot-Only），并尝试找到一个其无法回答正确的事实性问题。\n",
    "1. 使用联网查询工具（如：Tavily），在第2部分的聊天机器人（ChatBot + Tool）上测试相同问题，并对比生成结果。 "
   ]
  },
  {
   "cell_type": "code",
   "execution_count": null,
   "id": "e0696cb2-16f9-4db0-a395-18e6246cea95",
   "metadata": {},
   "outputs": [],
   "source": []
  }
 ],
 "metadata": {
  "kernelspec": {
   "display_name": "langgraph",
   "language": "python",
   "name": "langgraph"
  },
  "language_info": {
   "codemirror_mode": {
    "name": "ipython",
    "version": 3
   },
   "file_extension": ".py",
   "mimetype": "text/x-python",
   "name": "python",
   "nbconvert_exporter": "python",
   "pygments_lexer": "ipython3",
   "version": "3.10.14"
  }
 },
 "nbformat": 4,
 "nbformat_minor": 5
}
